{
 "cells": [
  {
   "cell_type": "code",
   "execution_count": 3,
   "id": "a97fb186-ae49-4309-a25a-37477d01a231",
   "metadata": {},
   "outputs": [],
   "source": [
    "import pandas as pd\n",
    "import os\n",
    "import warnings\n",
    "warnings.filterwarnings(\"ignore\", message=\"The figure layout has changed to tight\", category=UserWarning)\n",
    "warnings.filterwarnings(\"ignore\", category=FutureWarning)"
   ]
  },
  {
   "cell_type": "code",
   "execution_count": 4,
   "id": "1c189d55-2053-42e0-ab88-4bfd641dbcd4",
   "metadata": {
    "tags": []
   },
   "outputs": [],
   "source": [
    "pwd = os.getcwd()\n",
    "filepath=os.path.join(pwd,\"spam.csv\").replace(\"\\\\\", \"/\")"
   ]
  },
  {
   "cell_type": "code",
   "execution_count": 5,
   "id": "b51a00f3-ce22-48c4-a9c0-e4d42c71452e",
   "metadata": {
    "tags": []
   },
   "outputs": [
    {
     "name": "stdout",
     "output_type": "stream",
     "text": [
      "Failed to read with encoding: utf-8\n",
      "File successfully read with encoding: latin1\n",
      "CSV file has been successfully loaded.\n"
     ]
    }
   ],
   "source": [
    "encodings=['utf-8', 'latin1', 'ISO-8859-1','cp1252']\n",
    "for encoding in encodings:\n",
    "    try:\n",
    "        df = pd.read_csv(filepath, encoding=encoding)\n",
    "        print(f\"File successfully read with encoding: {encoding}\") \n",
    "        break \n",
    "    except UnicodeDecodeError:\n",
    "        print(f\"Failed to read with encoding: {encoding}\") \n",
    "        continue \n",
    "if 'df' in locals():\n",
    "    print(\"CSV file has been successfully loaded.\")\n",
    "else:\n",
    "    print(\"All encoding attempts failed. Unable to read the CSV file.\")"
   ]
  },
  {
   "cell_type": "code",
   "execution_count": 6,
   "id": "f0857e6a-a6fb-4b53-bf82-88e59b114c0c",
   "metadata": {
    "tags": []
   },
   "outputs": [
    {
     "data": {
      "text/html": [
       "<div>\n",
       "<style scoped>\n",
       "    .dataframe tbody tr th:only-of-type {\n",
       "        vertical-align: middle;\n",
       "    }\n",
       "\n",
       "    .dataframe tbody tr th {\n",
       "        vertical-align: top;\n",
       "    }\n",
       "\n",
       "    .dataframe thead th {\n",
       "        text-align: right;\n",
       "    }\n",
       "</style>\n",
       "<table border=\"1\" class=\"dataframe\">\n",
       "  <thead>\n",
       "    <tr style=\"text-align: right;\">\n",
       "      <th></th>\n",
       "      <th>v1</th>\n",
       "      <th>v2</th>\n",
       "      <th>Unnamed: 2</th>\n",
       "      <th>Unnamed: 3</th>\n",
       "      <th>Unnamed: 4</th>\n",
       "    </tr>\n",
       "  </thead>\n",
       "  <tbody>\n",
       "    <tr>\n",
       "      <th>4597</th>\n",
       "      <td>ham</td>\n",
       "      <td>I'm stuck in da middle of da row on da right h...</td>\n",
       "      <td>NaN</td>\n",
       "      <td>NaN</td>\n",
       "      <td>NaN</td>\n",
       "    </tr>\n",
       "    <tr>\n",
       "      <th>366</th>\n",
       "      <td>spam</td>\n",
       "      <td>Update_Now - Xmas Offer! Latest Motorola, Sony...</td>\n",
       "      <td>NaN</td>\n",
       "      <td>NaN</td>\n",
       "      <td>NaN</td>\n",
       "    </tr>\n",
       "    <tr>\n",
       "      <th>675</th>\n",
       "      <td>ham</td>\n",
       "      <td>I dont knw pa, i just drink milk..</td>\n",
       "      <td>NaN</td>\n",
       "      <td>NaN</td>\n",
       "      <td>NaN</td>\n",
       "    </tr>\n",
       "    <tr>\n",
       "      <th>4593</th>\n",
       "      <td>ham</td>\n",
       "      <td>I had a good time too. Its nice to do somethin...</td>\n",
       "      <td>NaN</td>\n",
       "      <td>NaN</td>\n",
       "      <td>NaN</td>\n",
       "    </tr>\n",
       "    <tr>\n",
       "      <th>1454</th>\n",
       "      <td>ham</td>\n",
       "      <td>Can Ì_ all decide faster cos my sis going home...</td>\n",
       "      <td>NaN</td>\n",
       "      <td>NaN</td>\n",
       "      <td>NaN</td>\n",
       "    </tr>\n",
       "  </tbody>\n",
       "</table>\n",
       "</div>"
      ],
      "text/plain": [
       "        v1                                                 v2 Unnamed: 2  \\\n",
       "4597   ham  I'm stuck in da middle of da row on da right h...        NaN   \n",
       "366   spam  Update_Now - Xmas Offer! Latest Motorola, Sony...        NaN   \n",
       "675    ham                 I dont knw pa, i just drink milk..        NaN   \n",
       "4593   ham  I had a good time too. Its nice to do somethin...        NaN   \n",
       "1454   ham  Can Ì_ all decide faster cos my sis going home...        NaN   \n",
       "\n",
       "     Unnamed: 3 Unnamed: 4  \n",
       "4597        NaN        NaN  \n",
       "366         NaN        NaN  \n",
       "675         NaN        NaN  \n",
       "4593        NaN        NaN  \n",
       "1454        NaN        NaN  "
      ]
     },
     "execution_count": 6,
     "metadata": {},
     "output_type": "execute_result"
    }
   ],
   "source": [
    "df.sample(5)"
   ]
  },
  {
   "cell_type": "code",
   "execution_count": 7,
   "id": "3ffdd22e-8c0a-45f0-96fc-6284267e9ace",
   "metadata": {
    "tags": []
   },
   "outputs": [
    {
     "data": {
      "text/plain": [
       "(5572, 5)"
      ]
     },
     "execution_count": 7,
     "metadata": {},
     "output_type": "execute_result"
    }
   ],
   "source": [
    "df.shape"
   ]
  },
  {
   "cell_type": "code",
   "execution_count": 8,
   "id": "5642dcd4-3bee-475b-b1ea-2b8beff992ba",
   "metadata": {
    "tags": []
   },
   "outputs": [
    {
     "name": "stdout",
     "output_type": "stream",
     "text": [
      "<class 'pandas.core.frame.DataFrame'>\n",
      "RangeIndex: 5572 entries, 0 to 5571\n",
      "Data columns (total 5 columns):\n",
      " #   Column      Non-Null Count  Dtype \n",
      "---  ------      --------------  ----- \n",
      " 0   v1          5572 non-null   object\n",
      " 1   v2          5572 non-null   object\n",
      " 2   Unnamed: 2  50 non-null     object\n",
      " 3   Unnamed: 3  12 non-null     object\n",
      " 4   Unnamed: 4  6 non-null      object\n",
      "dtypes: object(5)\n",
      "memory usage: 217.8+ KB\n"
     ]
    }
   ],
   "source": [
    "df.info()"
   ]
  },
  {
   "cell_type": "code",
   "execution_count": 9,
   "id": "1e114586-d1ad-4a04-bcf7-136efda739a8",
   "metadata": {
    "tags": []
   },
   "outputs": [],
   "source": [
    "df.drop(columns=['Unnamed: 2','Unnamed: 3','Unnamed: 4'],inplace=True)"
   ]
  },
  {
   "cell_type": "code",
   "execution_count": 10,
   "id": "04f13da5-a2dc-4ed1-8b1c-8cf777ee462b",
   "metadata": {
    "tags": []
   },
   "outputs": [
    {
     "data": {
      "text/html": [
       "<div>\n",
       "<style scoped>\n",
       "    .dataframe tbody tr th:only-of-type {\n",
       "        vertical-align: middle;\n",
       "    }\n",
       "\n",
       "    .dataframe tbody tr th {\n",
       "        vertical-align: top;\n",
       "    }\n",
       "\n",
       "    .dataframe thead th {\n",
       "        text-align: right;\n",
       "    }\n",
       "</style>\n",
       "<table border=\"1\" class=\"dataframe\">\n",
       "  <thead>\n",
       "    <tr style=\"text-align: right;\">\n",
       "      <th></th>\n",
       "      <th>v1</th>\n",
       "      <th>v2</th>\n",
       "    </tr>\n",
       "  </thead>\n",
       "  <tbody>\n",
       "    <tr>\n",
       "      <th>2462</th>\n",
       "      <td>ham</td>\n",
       "      <td>Rose needs water, season needs change, poet ne...</td>\n",
       "    </tr>\n",
       "    <tr>\n",
       "      <th>4556</th>\n",
       "      <td>ham</td>\n",
       "      <td>I am in hospital da. . I will return home in e...</td>\n",
       "    </tr>\n",
       "    <tr>\n",
       "      <th>4495</th>\n",
       "      <td>ham</td>\n",
       "      <td>In case you wake up wondering where I am, I fo...</td>\n",
       "    </tr>\n",
       "    <tr>\n",
       "      <th>1826</th>\n",
       "      <td>ham</td>\n",
       "      <td>Dude. What's up. How Teresa. Hope you have bee...</td>\n",
       "    </tr>\n",
       "    <tr>\n",
       "      <th>982</th>\n",
       "      <td>spam</td>\n",
       "      <td>Congrats! 2 mobile 3G Videophones R yours. cal...</td>\n",
       "    </tr>\n",
       "  </tbody>\n",
       "</table>\n",
       "</div>"
      ],
      "text/plain": [
       "        v1                                                 v2\n",
       "2462   ham  Rose needs water, season needs change, poet ne...\n",
       "4556   ham  I am in hospital da. . I will return home in e...\n",
       "4495   ham  In case you wake up wondering where I am, I fo...\n",
       "1826   ham  Dude. What's up. How Teresa. Hope you have bee...\n",
       "982   spam  Congrats! 2 mobile 3G Videophones R yours. cal..."
      ]
     },
     "execution_count": 10,
     "metadata": {},
     "output_type": "execute_result"
    }
   ],
   "source": [
    "df.sample(5)"
   ]
  },
  {
   "cell_type": "code",
   "execution_count": 11,
   "id": "4cb168db-e1e1-4a4e-98ec-8ba01dcc5937",
   "metadata": {
    "tags": []
   },
   "outputs": [
    {
     "data": {
      "text/html": [
       "<div>\n",
       "<style scoped>\n",
       "    .dataframe tbody tr th:only-of-type {\n",
       "        vertical-align: middle;\n",
       "    }\n",
       "\n",
       "    .dataframe tbody tr th {\n",
       "        vertical-align: top;\n",
       "    }\n",
       "\n",
       "    .dataframe thead th {\n",
       "        text-align: right;\n",
       "    }\n",
       "</style>\n",
       "<table border=\"1\" class=\"dataframe\">\n",
       "  <thead>\n",
       "    <tr style=\"text-align: right;\">\n",
       "      <th></th>\n",
       "      <th>target</th>\n",
       "      <th>text</th>\n",
       "    </tr>\n",
       "  </thead>\n",
       "  <tbody>\n",
       "    <tr>\n",
       "      <th>1333</th>\n",
       "      <td>ham</td>\n",
       "      <td>Oh... Icic... K lor, den meet other day...</td>\n",
       "    </tr>\n",
       "    <tr>\n",
       "      <th>1504</th>\n",
       "      <td>ham</td>\n",
       "      <td>Oh my God. I'm almost home</td>\n",
       "    </tr>\n",
       "    <tr>\n",
       "      <th>5363</th>\n",
       "      <td>ham</td>\n",
       "      <td>I think your mentor is , but not 100 percent s...</td>\n",
       "    </tr>\n",
       "    <tr>\n",
       "      <th>2470</th>\n",
       "      <td>ham</td>\n",
       "      <td>Eat at old airport road... But now 630 oredi.....</td>\n",
       "    </tr>\n",
       "    <tr>\n",
       "      <th>481</th>\n",
       "      <td>ham</td>\n",
       "      <td>Yo carlos, a few friends are already asking me...</td>\n",
       "    </tr>\n",
       "  </tbody>\n",
       "</table>\n",
       "</div>"
      ],
      "text/plain": [
       "     target                                               text\n",
       "1333    ham         Oh... Icic... K lor, den meet other day...\n",
       "1504    ham                         Oh my God. I'm almost home\n",
       "5363    ham  I think your mentor is , but not 100 percent s...\n",
       "2470    ham  Eat at old airport road... But now 630 oredi.....\n",
       "481     ham  Yo carlos, a few friends are already asking me..."
      ]
     },
     "execution_count": 11,
     "metadata": {},
     "output_type": "execute_result"
    }
   ],
   "source": [
    "df.rename(columns={'v1':'target','v2':'text'},inplace=True)\n",
    "df.sample(5)"
   ]
  },
  {
   "cell_type": "code",
   "execution_count": 12,
   "id": "4f563c90-5211-4372-a26e-60791e06065e",
   "metadata": {
    "tags": []
   },
   "outputs": [],
   "source": [
    "from sklearn.preprocessing import LabelEncoder\n",
    "encoder=LabelEncoder()"
   ]
  },
  {
   "cell_type": "code",
   "execution_count": 13,
   "id": "54a32461-069f-4f4b-942f-996ce52113a7",
   "metadata": {
    "tags": []
   },
   "outputs": [],
   "source": [
    "df['target']=encoder.fit_transform(df['target'])"
   ]
  },
  {
   "cell_type": "code",
   "execution_count": 14,
   "id": "965676d4-917d-4f29-95e9-fd1c87a30a06",
   "metadata": {
    "tags": []
   },
   "outputs": [
    {
     "data": {
      "text/html": [
       "<div>\n",
       "<style scoped>\n",
       "    .dataframe tbody tr th:only-of-type {\n",
       "        vertical-align: middle;\n",
       "    }\n",
       "\n",
       "    .dataframe tbody tr th {\n",
       "        vertical-align: top;\n",
       "    }\n",
       "\n",
       "    .dataframe thead th {\n",
       "        text-align: right;\n",
       "    }\n",
       "</style>\n",
       "<table border=\"1\" class=\"dataframe\">\n",
       "  <thead>\n",
       "    <tr style=\"text-align: right;\">\n",
       "      <th></th>\n",
       "      <th>target</th>\n",
       "      <th>text</th>\n",
       "    </tr>\n",
       "  </thead>\n",
       "  <tbody>\n",
       "    <tr>\n",
       "      <th>0</th>\n",
       "      <td>0</td>\n",
       "      <td>Go until jurong point, crazy.. Available only ...</td>\n",
       "    </tr>\n",
       "    <tr>\n",
       "      <th>1</th>\n",
       "      <td>0</td>\n",
       "      <td>Ok lar... Joking wif u oni...</td>\n",
       "    </tr>\n",
       "    <tr>\n",
       "      <th>2</th>\n",
       "      <td>1</td>\n",
       "      <td>Free entry in 2 a wkly comp to win FA Cup fina...</td>\n",
       "    </tr>\n",
       "    <tr>\n",
       "      <th>3</th>\n",
       "      <td>0</td>\n",
       "      <td>U dun say so early hor... U c already then say...</td>\n",
       "    </tr>\n",
       "    <tr>\n",
       "      <th>4</th>\n",
       "      <td>0</td>\n",
       "      <td>Nah I don't think he goes to usf, he lives aro...</td>\n",
       "    </tr>\n",
       "  </tbody>\n",
       "</table>\n",
       "</div>"
      ],
      "text/plain": [
       "   target                                               text\n",
       "0       0  Go until jurong point, crazy.. Available only ...\n",
       "1       0                      Ok lar... Joking wif u oni...\n",
       "2       1  Free entry in 2 a wkly comp to win FA Cup fina...\n",
       "3       0  U dun say so early hor... U c already then say...\n",
       "4       0  Nah I don't think he goes to usf, he lives aro..."
      ]
     },
     "execution_count": 14,
     "metadata": {},
     "output_type": "execute_result"
    }
   ],
   "source": [
    "df.head()"
   ]
  },
  {
   "cell_type": "code",
   "execution_count": 15,
   "id": "25957c91-9bd2-4cec-b605-36e465d074ae",
   "metadata": {
    "tags": []
   },
   "outputs": [
    {
     "data": {
      "text/plain": [
       "target    0\n",
       "text      0\n",
       "dtype: int64"
      ]
     },
     "execution_count": 15,
     "metadata": {},
     "output_type": "execute_result"
    }
   ],
   "source": [
    "df.isnull().sum()"
   ]
  },
  {
   "cell_type": "code",
   "execution_count": 16,
   "id": "6533d178-34ad-4590-84f3-f9a326b636a9",
   "metadata": {
    "tags": []
   },
   "outputs": [
    {
     "data": {
      "text/plain": [
       "403"
      ]
     },
     "execution_count": 16,
     "metadata": {},
     "output_type": "execute_result"
    }
   ],
   "source": [
    "df.duplicated().sum()"
   ]
  },
  {
   "cell_type": "code",
   "execution_count": 17,
   "id": "b1edb252-8a5a-473a-bba7-0d71d77f99c6",
   "metadata": {
    "tags": []
   },
   "outputs": [],
   "source": [
    "df=df.drop_duplicates(keep='first')"
   ]
  },
  {
   "cell_type": "code",
   "execution_count": 18,
   "id": "d73db038-229a-4bd4-8614-c81ac1e6cd8e",
   "metadata": {
    "tags": []
   },
   "outputs": [
    {
     "data": {
      "text/plain": [
       "0"
      ]
     },
     "execution_count": 18,
     "metadata": {},
     "output_type": "execute_result"
    }
   ],
   "source": [
    "df.duplicated().sum()"
   ]
  },
  {
   "cell_type": "code",
   "execution_count": 19,
   "id": "a4fbe76c-a706-433d-818f-da23bdc2744a",
   "metadata": {
    "tags": []
   },
   "outputs": [
    {
     "data": {
      "text/plain": [
       "(5169, 2)"
      ]
     },
     "execution_count": 19,
     "metadata": {},
     "output_type": "execute_result"
    }
   ],
   "source": [
    "df.shape"
   ]
  },
  {
   "cell_type": "code",
   "execution_count": 20,
   "id": "2516ac6b-7038-4a00-83e5-c37870693fcc",
   "metadata": {
    "tags": []
   },
   "outputs": [
    {
     "data": {
      "text/html": [
       "<div>\n",
       "<style scoped>\n",
       "    .dataframe tbody tr th:only-of-type {\n",
       "        vertical-align: middle;\n",
       "    }\n",
       "\n",
       "    .dataframe tbody tr th {\n",
       "        vertical-align: top;\n",
       "    }\n",
       "\n",
       "    .dataframe thead th {\n",
       "        text-align: right;\n",
       "    }\n",
       "</style>\n",
       "<table border=\"1\" class=\"dataframe\">\n",
       "  <thead>\n",
       "    <tr style=\"text-align: right;\">\n",
       "      <th></th>\n",
       "      <th>target</th>\n",
       "      <th>text</th>\n",
       "    </tr>\n",
       "  </thead>\n",
       "  <tbody>\n",
       "    <tr>\n",
       "      <th>0</th>\n",
       "      <td>0</td>\n",
       "      <td>Go until jurong point, crazy.. Available only ...</td>\n",
       "    </tr>\n",
       "    <tr>\n",
       "      <th>1</th>\n",
       "      <td>0</td>\n",
       "      <td>Ok lar... Joking wif u oni...</td>\n",
       "    </tr>\n",
       "    <tr>\n",
       "      <th>2</th>\n",
       "      <td>1</td>\n",
       "      <td>Free entry in 2 a wkly comp to win FA Cup fina...</td>\n",
       "    </tr>\n",
       "    <tr>\n",
       "      <th>3</th>\n",
       "      <td>0</td>\n",
       "      <td>U dun say so early hor... U c already then say...</td>\n",
       "    </tr>\n",
       "    <tr>\n",
       "      <th>4</th>\n",
       "      <td>0</td>\n",
       "      <td>Nah I don't think he goes to usf, he lives aro...</td>\n",
       "    </tr>\n",
       "  </tbody>\n",
       "</table>\n",
       "</div>"
      ],
      "text/plain": [
       "   target                                               text\n",
       "0       0  Go until jurong point, crazy.. Available only ...\n",
       "1       0                      Ok lar... Joking wif u oni...\n",
       "2       1  Free entry in 2 a wkly comp to win FA Cup fina...\n",
       "3       0  U dun say so early hor... U c already then say...\n",
       "4       0  Nah I don't think he goes to usf, he lives aro..."
      ]
     },
     "execution_count": 20,
     "metadata": {},
     "output_type": "execute_result"
    }
   ],
   "source": [
    "df.head()"
   ]
  },
  {
   "cell_type": "code",
   "execution_count": 21,
   "id": "5d3752ab-1dc1-4c0c-a3e8-4f274f27de49",
   "metadata": {
    "tags": []
   },
   "outputs": [
    {
     "data": {
      "text/plain": [
       "target\n",
       "0    4516\n",
       "1     653\n",
       "Name: count, dtype: int64"
      ]
     },
     "execution_count": 21,
     "metadata": {},
     "output_type": "execute_result"
    }
   ],
   "source": [
    "df['target'].value_counts()"
   ]
  },
  {
   "cell_type": "code",
   "execution_count": 22,
   "id": "5349fac4-7ee4-45d6-97f7-43e53b4bbd3d",
   "metadata": {
    "tags": []
   },
   "outputs": [],
   "source": [
    "import matplotlib.pyplot as plt"
   ]
  },
  {
   "cell_type": "code",
   "execution_count": 23,
   "id": "33147d21-348c-464b-aa64-ade3d7b7f017",
   "metadata": {
    "tags": []
   },
   "outputs": [
    {
     "data": {
      "image/png": "[encoded data removed]",
      "text/plain": [
       "<Figure size 640x480 with 1 Axes>"
      ]
     },
     "metadata": {},
     "output_type": "display_data"
    }
   ],
   "source": [
    "plt.pie(df['target'].value_counts(),labels=['ham','spam'],autopct=\"%0.2f\")\n",
    "plt.show()"
   ]
  },
  {
   "cell_type": "code",
   "execution_count": 24,
   "id": "d3bd87d4-d646-4b6d-8eec-fef53a0d0be2",
   "metadata": {
    "tags": []
   },
   "outputs": [],
   "source": [
    "import nltk"
   ]
  },
  {
   "cell_type": "code",
   "execution_count": 26,
   "id": "b1a82dfe-eb34-4e05-9fce-1eba6106eeab",
   "metadata": {
    "tags": []
   },
   "outputs": [
    {
     "name": "stderr",
     "output_type": "stream",
     "text": [
      "[nltk_data] Downloading package punkt to\n",
      "[nltk_data]     C:\\Users\\KIIT\\AppData\\Roaming\\nltk_data...\n",
      "[nltk_data]   Package punkt is already up-to-date!\n"
     ]
    },
    {
     "data": {
      "text/plain": [
       "True"
      ]
     },
     "execution_count": 26,
     "metadata": {},
     "output_type": "execute_result"
    }
   ],
   "source": [
    "nltk.download ('punkt')"
   ]
  },
  {
   "cell_type": "code",
   "execution_count": 27,
   "id": "63bb9dbc-000a-40ea-bde1-701984d96b0b",
   "metadata": {
    "tags": []
   },
   "outputs": [],
   "source": [
    "df['num_characters']=df['text'].apply(len)"
   ]
  },
  {
   "cell_type": "code",
   "execution_count": 28,
   "id": "7c8559f2-1721-494b-993b-1fe3e7431cc5",
   "metadata": {
    "tags": []
   },
   "outputs": [
    {
     "data": {
      "text/html": [
       "<div>\n",
       "<style scoped>\n",
       "    .dataframe tbody tr th:only-of-type {\n",
       "        vertical-align: middle;\n",
       "    }\n",
       "\n",
       "    .dataframe tbody tr th {\n",
       "        vertical-align: top;\n",
       "    }\n",
       "\n",
       "    .dataframe thead th {\n",
       "        text-align: right;\n",
       "    }\n",
       "</style>\n",
       "<table border=\"1\" class=\"dataframe\">\n",
       "  <thead>\n",
       "    <tr style=\"text-align: right;\">\n",
       "      <th></th>\n",
       "      <th>target</th>\n",
       "      <th>text</th>\n",
       "      <th>num_characters</th>\n",
       "    </tr>\n",
       "  </thead>\n",
       "  <tbody>\n",
       "    <tr>\n",
       "      <th>0</th>\n",
       "      <td>0</td>\n",
       "      <td>Go until jurong point, crazy.. Available only ...</td>\n",
       "      <td>111</td>\n",
       "    </tr>\n",
       "    <tr>\n",
       "      <th>1</th>\n",
       "      <td>0</td>\n",
       "      <td>Ok lar... Joking wif u oni...</td>\n",
       "      <td>29</td>\n",
       "    </tr>\n",
       "    <tr>\n",
       "      <th>2</th>\n",
       "      <td>1</td>\n",
       "      <td>Free entry in 2 a wkly comp to win FA Cup fina...</td>\n",
       "      <td>155</td>\n",
       "    </tr>\n",
       "    <tr>\n",
       "      <th>3</th>\n",
       "      <td>0</td>\n",
       "      <td>U dun say so early hor... U c already then say...</td>\n",
       "      <td>49</td>\n",
       "    </tr>\n",
       "    <tr>\n",
       "      <th>4</th>\n",
       "      <td>0</td>\n",
       "      <td>Nah I don't think he goes to usf, he lives aro...</td>\n",
       "      <td>61</td>\n",
       "    </tr>\n",
       "  </tbody>\n",
       "</table>\n",
       "</div>"
      ],
      "text/plain": [
       "   target                                               text  num_characters\n",
       "0       0  Go until jurong point, crazy.. Available only ...             111\n",
       "1       0                      Ok lar... Joking wif u oni...              29\n",
       "2       1  Free entry in 2 a wkly comp to win FA Cup fina...             155\n",
       "3       0  U dun say so early hor... U c already then say...              49\n",
       "4       0  Nah I don't think he goes to usf, he lives aro...              61"
      ]
     },
     "execution_count": 28,
     "metadata": {},
     "output_type": "execute_result"
    }
   ],
   "source": [
    "df.head()"
   ]
  },
  {
   "cell_type": "code",
   "execution_count": 29,
   "id": "1dc7844f-66fa-4de7-bcc4-23c94f883e53",
   "metadata": {
    "tags": []
   },
   "outputs": [],
   "source": [
    "df['num_words']=df['text'].apply(lambda x:len(nltk.word_tokenize(x)))"
   ]
  },
  {
   "cell_type": "code",
   "execution_count": 30,
   "id": "71cb6137-f9ae-4eff-b8cc-533b8e7f9579",
   "metadata": {
    "tags": []
   },
   "outputs": [
    {
     "data": {
      "text/html": [
       "<div>\n",
       "<style scoped>\n",
       "    .dataframe tbody tr th:only-of-type {\n",
       "        vertical-align: middle;\n",
       "    }\n",
       "\n",
       "    .dataframe tbody tr th {\n",
       "        vertical-align: top;\n",
       "    }\n",
       "\n",
       "    .dataframe thead th {\n",
       "        text-align: right;\n",
       "    }\n",
       "</style>\n",
       "<table border=\"1\" class=\"dataframe\">\n",
       "  <thead>\n",
       "    <tr style=\"text-align: right;\">\n",
       "      <th></th>\n",
       "      <th>target</th>\n",
       "      <th>text</th>\n",
       "      <th>num_characters</th>\n",
       "      <th>num_words</th>\n",
       "    </tr>\n",
       "  </thead>\n",
       "  <tbody>\n",
       "    <tr>\n",
       "      <th>0</th>\n",
       "      <td>0</td>\n",
       "      <td>Go until jurong point, crazy.. Available only ...</td>\n",
       "      <td>111</td>\n",
       "      <td>24</td>\n",
       "    </tr>\n",
       "    <tr>\n",
       "      <th>1</th>\n",
       "      <td>0</td>\n",
       "      <td>Ok lar... Joking wif u oni...</td>\n",
       "      <td>29</td>\n",
       "      <td>8</td>\n",
       "    </tr>\n",
       "    <tr>\n",
       "      <th>2</th>\n",
       "      <td>1</td>\n",
       "      <td>Free entry in 2 a wkly comp to win FA Cup fina...</td>\n",
       "      <td>155</td>\n",
       "      <td>37</td>\n",
       "    </tr>\n",
       "    <tr>\n",
       "      <th>3</th>\n",
       "      <td>0</td>\n",
       "      <td>U dun say so early hor... U c already then say...</td>\n",
       "      <td>49</td>\n",
       "      <td>13</td>\n",
       "    </tr>\n",
       "    <tr>\n",
       "      <th>4</th>\n",
       "      <td>0</td>\n",
       "      <td>Nah I don't think he goes to usf, he lives aro...</td>\n",
       "      <td>61</td>\n",
       "      <td>15</td>\n",
       "    </tr>\n",
       "  </tbody>\n",
       "</table>\n",
       "</div>"
      ],
      "text/plain": [
       "   target                                               text  num_characters  \\\n",
       "0       0  Go until jurong point, crazy.. Available only ...             111   \n",
       "1       0                      Ok lar... Joking wif u oni...              29   \n",
       "2       1  Free entry in 2 a wkly comp to win FA Cup fina...             155   \n",
       "3       0  U dun say so early hor... U c already then say...              49   \n",
       "4       0  Nah I don't think he goes to usf, he lives aro...              61   \n",
       "\n",
       "   num_words  \n",
       "0         24  \n",
       "1          8  \n",
       "2         37  \n",
       "3         13  \n",
       "4         15  "
      ]
     },
     "execution_count": 30,
     "metadata": {},
     "output_type": "execute_result"
    }
   ],
   "source": [
    "df.head()"
   ]
  },
  {
   "cell_type": "code",
   "execution_count": 31,
   "id": "9967b351-af17-481f-9efa-44ce62b7ada7",
   "metadata": {
    "tags": []
   },
   "outputs": [],
   "source": [
    "df['num_sentences']=df['text'].apply(lambda x:len(nltk.sent_tokenize(x)))"
   ]
  },
  {
   "cell_type": "code",
   "execution_count": 32,
   "id": "9652c7a8-754e-45b4-ae07-61557aae5199",
   "metadata": {
    "tags": []
   },
   "outputs": [
    {
     "data": {
      "text/html": [
       "<div>\n",
       "<style scoped>\n",
       "    .dataframe tbody tr th:only-of-type {\n",
       "        vertical-align: middle;\n",
       "    }\n",
       "\n",
       "    .dataframe tbody tr th {\n",
       "        vertical-align: top;\n",
       "    }\n",
       "\n",
       "    .dataframe thead th {\n",
       "        text-align: right;\n",
       "    }\n",
       "</style>\n",
       "<table border=\"1\" class=\"dataframe\">\n",
       "  <thead>\n",
       "    <tr style=\"text-align: right;\">\n",
       "      <th></th>\n",
       "      <th>target</th>\n",
       "      <th>text</th>\n",
       "      <th>num_characters</th>\n",
       "      <th>num_words</th>\n",
       "      <th>num_sentences</th>\n",
       "    </tr>\n",
       "  </thead>\n",
       "  <tbody>\n",
       "    <tr>\n",
       "      <th>0</th>\n",
       "      <td>0</td>\n",
       "      <td>Go until jurong point, crazy.. Available only ...</td>\n",
       "      <td>111</td>\n",
       "      <td>24</td>\n",
       "      <td>2</td>\n",
       "    </tr>\n",
       "    <tr>\n",
       "      <th>1</th>\n",
       "      <td>0</td>\n",
       "      <td>Ok lar... Joking wif u oni...</td>\n",
       "      <td>29</td>\n",
       "      <td>8</td>\n",
       "      <td>2</td>\n",
       "    </tr>\n",
       "    <tr>\n",
       "      <th>2</th>\n",
       "      <td>1</td>\n",
       "      <td>Free entry in 2 a wkly comp to win FA Cup fina...</td>\n",
       "      <td>155</td>\n",
       "      <td>37</td>\n",
       "      <td>2</td>\n",
       "    </tr>\n",
       "    <tr>\n",
       "      <th>3</th>\n",
       "      <td>0</td>\n",
       "      <td>U dun say so early hor... U c already then say...</td>\n",
       "      <td>49</td>\n",
       "      <td>13</td>\n",
       "      <td>1</td>\n",
       "    </tr>\n",
       "    <tr>\n",
       "      <th>4</th>\n",
       "      <td>0</td>\n",
       "      <td>Nah I don't think he goes to usf, he lives aro...</td>\n",
       "      <td>61</td>\n",
       "      <td>15</td>\n",
       "      <td>1</td>\n",
       "    </tr>\n",
       "  </tbody>\n",
       "</table>\n",
       "</div>"
      ],
      "text/plain": [
       "   target                                               text  num_characters  \\\n",
       "0       0  Go until jurong point, crazy.. Available only ...             111   \n",
       "1       0                      Ok lar... Joking wif u oni...              29   \n",
       "2       1  Free entry in 2 a wkly comp to win FA Cup fina...             155   \n",
       "3       0  U dun say so early hor... U c already then say...              49   \n",
       "4       0  Nah I don't think he goes to usf, he lives aro...              61   \n",
       "\n",
       "   num_words  num_sentences  \n",
       "0         24              2  \n",
       "1          8              2  \n",
       "2         37              2  \n",
       "3         13              1  \n",
       "4         15              1  "
      ]
     },
     "execution_count": 32,
     "metadata": {},
     "output_type": "execute_result"
    }
   ],
   "source": [
    "df.head()"
   ]
  },
  {
   "cell_type": "code",
   "execution_count": 33,
   "id": "bea655b2-5351-4631-8d27-8b5701c94210",
   "metadata": {
    "tags": []
   },
   "outputs": [
    {
     "data": {
      "text/html": [
       "<div>\n",
       "<style scoped>\n",
       "    .dataframe tbody tr th:only-of-type {\n",
       "        vertical-align: middle;\n",
       "    }\n",
       "\n",
       "    .dataframe tbody tr th {\n",
       "        vertical-align: top;\n",
       "    }\n",
       "\n",
       "    .dataframe thead th {\n",
       "        text-align: right;\n",
       "    }\n",
       "</style>\n",
       "<table border=\"1\" class=\"dataframe\">\n",
       "  <thead>\n",
       "    <tr style=\"text-align: right;\">\n",
       "      <th></th>\n",
       "      <th>num_characters</th>\n",
       "      <th>num_words</th>\n",
       "      <th>num_sentences</th>\n",
       "    </tr>\n",
       "  </thead>\n",
       "  <tbody>\n",
       "    <tr>\n",
       "      <th>count</th>\n",
       "      <td>5169.000000</td>\n",
       "      <td>5169.000000</td>\n",
       "      <td>5169.000000</td>\n",
       "    </tr>\n",
       "    <tr>\n",
       "      <th>mean</th>\n",
       "      <td>78.977945</td>\n",
       "      <td>18.455794</td>\n",
       "      <td>1.965564</td>\n",
       "    </tr>\n",
       "    <tr>\n",
       "      <th>std</th>\n",
       "      <td>58.236293</td>\n",
       "      <td>13.324758</td>\n",
       "      <td>1.448541</td>\n",
       "    </tr>\n",
       "    <tr>\n",
       "      <th>min</th>\n",
       "      <td>2.000000</td>\n",
       "      <td>1.000000</td>\n",
       "      <td>1.000000</td>\n",
       "    </tr>\n",
       "    <tr>\n",
       "      <th>25%</th>\n",
       "      <td>36.000000</td>\n",
       "      <td>9.000000</td>\n",
       "      <td>1.000000</td>\n",
       "    </tr>\n",
       "    <tr>\n",
       "      <th>50%</th>\n",
       "      <td>60.000000</td>\n",
       "      <td>15.000000</td>\n",
       "      <td>1.000000</td>\n",
       "    </tr>\n",
       "    <tr>\n",
       "      <th>75%</th>\n",
       "      <td>117.000000</td>\n",
       "      <td>26.000000</td>\n",
       "      <td>2.000000</td>\n",
       "    </tr>\n",
       "    <tr>\n",
       "      <th>max</th>\n",
       "      <td>910.000000</td>\n",
       "      <td>220.000000</td>\n",
       "      <td>38.000000</td>\n",
       "    </tr>\n",
       "  </tbody>\n",
       "</table>\n",
       "</div>"
      ],
      "text/plain": [
       "       num_characters    num_words  num_sentences\n",
       "count     5169.000000  5169.000000    5169.000000\n",
       "mean        78.977945    18.455794       1.965564\n",
       "std         58.236293    13.324758       1.448541\n",
       "min          2.000000     1.000000       1.000000\n",
       "25%         36.000000     9.000000       1.000000\n",
       "50%         60.000000    15.000000       1.000000\n",
       "75%        117.000000    26.000000       2.000000\n",
       "max        910.000000   220.000000      38.000000"
      ]
     },
     "execution_count": 33,
     "metadata": {},
     "output_type": "execute_result"
    }
   ],
   "source": [
    "df[['num_characters','num_words','num_sentences']].describe()"
   ]
  },
  {
   "cell_type": "code",
   "execution_count": 34,
   "id": "406920cf-e276-445a-8d79-0aeac9da6461",
   "metadata": {
    "tags": []
   },
   "outputs": [
    {
     "data": {
      "text/html": [
       "<div>\n",
       "<style scoped>\n",
       "    .dataframe tbody tr th:only-of-type {\n",
       "        vertical-align: middle;\n",
       "    }\n",
       "\n",
       "    .dataframe tbody tr th {\n",
       "        vertical-align: top;\n",
       "    }\n",
       "\n",
       "    .dataframe thead th {\n",
       "        text-align: right;\n",
       "    }\n",
       "</style>\n",
       "<table border=\"1\" class=\"dataframe\">\n",
       "  <thead>\n",
       "    <tr style=\"text-align: right;\">\n",
       "      <th></th>\n",
       "      <th>num_characters</th>\n",
       "      <th>num_words</th>\n",
       "      <th>num_sentences</th>\n",
       "    </tr>\n",
       "  </thead>\n",
       "  <tbody>\n",
       "    <tr>\n",
       "      <th>count</th>\n",
       "      <td>4516.000000</td>\n",
       "      <td>4516.000000</td>\n",
       "      <td>4516.000000</td>\n",
       "    </tr>\n",
       "    <tr>\n",
       "      <th>mean</th>\n",
       "      <td>70.459256</td>\n",
       "      <td>17.123782</td>\n",
       "      <td>1.820195</td>\n",
       "    </tr>\n",
       "    <tr>\n",
       "      <th>std</th>\n",
       "      <td>56.358207</td>\n",
       "      <td>13.493970</td>\n",
       "      <td>1.383657</td>\n",
       "    </tr>\n",
       "    <tr>\n",
       "      <th>min</th>\n",
       "      <td>2.000000</td>\n",
       "      <td>1.000000</td>\n",
       "      <td>1.000000</td>\n",
       "    </tr>\n",
       "    <tr>\n",
       "      <th>25%</th>\n",
       "      <td>34.000000</td>\n",
       "      <td>8.000000</td>\n",
       "      <td>1.000000</td>\n",
       "    </tr>\n",
       "    <tr>\n",
       "      <th>50%</th>\n",
       "      <td>52.000000</td>\n",
       "      <td>13.000000</td>\n",
       "      <td>1.000000</td>\n",
       "    </tr>\n",
       "    <tr>\n",
       "      <th>75%</th>\n",
       "      <td>90.000000</td>\n",
       "      <td>22.000000</td>\n",
       "      <td>2.000000</td>\n",
       "    </tr>\n",
       "    <tr>\n",
       "      <th>max</th>\n",
       "      <td>910.000000</td>\n",
       "      <td>220.000000</td>\n",
       "      <td>38.000000</td>\n",
       "    </tr>\n",
       "  </tbody>\n",
       "</table>\n",
       "</div>"
      ],
      "text/plain": [
       "       num_characters    num_words  num_sentences\n",
       "count     4516.000000  4516.000000    4516.000000\n",
       "mean        70.459256    17.123782       1.820195\n",
       "std         56.358207    13.493970       1.383657\n",
       "min          2.000000     1.000000       1.000000\n",
       "25%         34.000000     8.000000       1.000000\n",
       "50%         52.000000    13.000000       1.000000\n",
       "75%         90.000000    22.000000       2.000000\n",
       "max        910.000000   220.000000      38.000000"
      ]
     },
     "execution_count": 34,
     "metadata": {},
     "output_type": "execute_result"
    }
   ],
   "source": [
    "df[df['target']==0][['num_characters','num_words','num_sentences']].describe()"
   ]
  },
  {
   "cell_type": "code",
   "execution_count": 35,
   "id": "b9d0d8c1-32f2-45c5-8e06-f3e78d5e567a",
   "metadata": {
    "tags": []
   },
   "outputs": [
    {
     "data": {
      "text/html": [
       "<div>\n",
       "<style scoped>\n",
       "    .dataframe tbody tr th:only-of-type {\n",
       "        vertical-align: middle;\n",
       "    }\n",
       "\n",
       "    .dataframe tbody tr th {\n",
       "        vertical-align: top;\n",
       "    }\n",
       "\n",
       "    .dataframe thead th {\n",
       "        text-align: right;\n",
       "    }\n",
       "</style>\n",
       "<table border=\"1\" class=\"dataframe\">\n",
       "  <thead>\n",
       "    <tr style=\"text-align: right;\">\n",
       "      <th></th>\n",
       "      <th>num_characters</th>\n",
       "      <th>num_words</th>\n",
       "      <th>num_sentences</th>\n",
       "    </tr>\n",
       "  </thead>\n",
       "  <tbody>\n",
       "    <tr>\n",
       "      <th>count</th>\n",
       "      <td>653.000000</td>\n",
       "      <td>653.000000</td>\n",
       "      <td>653.000000</td>\n",
       "    </tr>\n",
       "    <tr>\n",
       "      <th>mean</th>\n",
       "      <td>137.891271</td>\n",
       "      <td>27.667688</td>\n",
       "      <td>2.970904</td>\n",
       "    </tr>\n",
       "    <tr>\n",
       "      <th>std</th>\n",
       "      <td>30.137753</td>\n",
       "      <td>7.008418</td>\n",
       "      <td>1.488425</td>\n",
       "    </tr>\n",
       "    <tr>\n",
       "      <th>min</th>\n",
       "      <td>13.000000</td>\n",
       "      <td>2.000000</td>\n",
       "      <td>1.000000</td>\n",
       "    </tr>\n",
       "    <tr>\n",
       "      <th>25%</th>\n",
       "      <td>132.000000</td>\n",
       "      <td>25.000000</td>\n",
       "      <td>2.000000</td>\n",
       "    </tr>\n",
       "    <tr>\n",
       "      <th>50%</th>\n",
       "      <td>149.000000</td>\n",
       "      <td>29.000000</td>\n",
       "      <td>3.000000</td>\n",
       "    </tr>\n",
       "    <tr>\n",
       "      <th>75%</th>\n",
       "      <td>157.000000</td>\n",
       "      <td>32.000000</td>\n",
       "      <td>4.000000</td>\n",
       "    </tr>\n",
       "    <tr>\n",
       "      <th>max</th>\n",
       "      <td>224.000000</td>\n",
       "      <td>46.000000</td>\n",
       "      <td>9.000000</td>\n",
       "    </tr>\n",
       "  </tbody>\n",
       "</table>\n",
       "</div>"
      ],
      "text/plain": [
       "       num_characters   num_words  num_sentences\n",
       "count      653.000000  653.000000     653.000000\n",
       "mean       137.891271   27.667688       2.970904\n",
       "std         30.137753    7.008418       1.488425\n",
       "min         13.000000    2.000000       1.000000\n",
       "25%        132.000000   25.000000       2.000000\n",
       "50%        149.000000   29.000000       3.000000\n",
       "75%        157.000000   32.000000       4.000000\n",
       "max        224.000000   46.000000       9.000000"
      ]
     },
     "execution_count": 35,
     "metadata": {},
     "output_type": "execute_result"
    }
   ],
   "source": [
    "df[df['target']==1][['num_characters','num_words','num_sentences']].describe()"
   ]
  },
  {
   "cell_type": "code",
   "execution_count": 36,
   "id": "fd05a4a8-f4fc-4ccc-9825-2173a43b8b1a",
   "metadata": {
    "tags": []
   },
   "outputs": [],
   "source": [
    "import seaborn as sns"
   ]
  },
  {
   "cell_type": "code",
   "execution_count": 37,
   "id": "d0ab7bbf-3a28-4a5e-88c0-5d5d36047865",
   "metadata": {
    "tags": []
   },
   "outputs": [
    {
     "data": {
      "text/plain": [
       "<Axes: xlabel='num_characters', ylabel='Count'>"
      ]
     },
     "execution_count": 37,
     "metadata": {},
     "output_type": "execute_result"
    },
    {
     "data": {
      "image/png": "[encoded data removed]",
      "text/plain": [
       "<Figure size 1200x600 with 1 Axes>"
      ]
     },
     "metadata": {},
     "output_type": "display_data"
    }
   ],
   "source": [
    "plt.figure(figsize=(12,6))\n",
    "sns.histplot(df[df['target']==0]['num_characters'])\n",
    "sns.histplot(df [df['target']==1]['num_characters'], color='red')"
   ]
  },
  {
   "cell_type": "code",
   "execution_count": 38,
   "id": "67aa06ac-9b9e-466d-b461-ec162f134e26",
   "metadata": {
    "tags": []
   },
   "outputs": [
    {
     "data": {
      "text/plain": [
       "<Axes: xlabel='num_words', ylabel='Count'>"
      ]
     },
     "execution_count": 38,
     "metadata": {},
     "output_type": "execute_result"
    },
    {
     "data": {
      "image/png": "[encoded data removed]",
      "text/plain": [
       "<Figure size 1200x600 with 1 Axes>"
      ]
     },
     "metadata": {},
     "output_type": "display_data"
    }
   ],
   "source": [
    "plt.figure(figsize=(12,6))\n",
    "sns.histplot(df[df['target']==0]['num_words'])\n",
    "sns.histplot(df [df['target']==1]['num_words'], color='red')"
   ]
  },
  {
   "cell_type": "code",
   "execution_count": 39,
   "id": "d516d653-7d54-446d-a6f6-ef120e93cdef",
   "metadata": {
    "tags": []
   },
   "outputs": [
    {
     "data": {
      "text/plain": [
       "<seaborn.axisgrid.PairGrid at 0x2738c64ced0>"
      ]
     },
     "execution_count": 39,
     "metadata": {},
     "output_type": "execute_result"
    },
    {
     "data": {
      "image/png": "[encoded data removed]",
      "text/plain": [
       "<Figure size 808.875x750 with 12 Axes>"
      ]
     },
     "metadata": {},
     "output_type": "display_data"
    }
   ],
   "source": [
    "sns.pairplot(df, hue='target')"
   ]
  },
  {
   "cell_type": "code",
   "execution_count": 40,
   "id": "f2277664-a6ce-416c-8c9c-4f9688a9a064",
   "metadata": {
    "tags": []
   },
   "outputs": [
    {
     "data": {
      "text/html": [
       "<div>\n",
       "<style scoped>\n",
       "    .dataframe tbody tr th:only-of-type {\n",
       "        vertical-align: middle;\n",
       "    }\n",
       "\n",
       "    .dataframe tbody tr th {\n",
       "        vertical-align: top;\n",
       "    }\n",
       "\n",
       "    .dataframe thead th {\n",
       "        text-align: right;\n",
       "    }\n",
       "</style>\n",
       "<table border=\"1\" class=\"dataframe\">\n",
       "  <thead>\n",
       "    <tr style=\"text-align: right;\">\n",
       "      <th></th>\n",
       "      <th>target</th>\n",
       "      <th>num_characters</th>\n",
       "      <th>num_words</th>\n",
       "      <th>num_sentences</th>\n",
       "    </tr>\n",
       "  </thead>\n",
       "  <tbody>\n",
       "    <tr>\n",
       "      <th>0</th>\n",
       "      <td>0</td>\n",
       "      <td>111</td>\n",
       "      <td>24</td>\n",
       "      <td>2</td>\n",
       "    </tr>\n",
       "    <tr>\n",
       "      <th>1</th>\n",
       "      <td>0</td>\n",
       "      <td>29</td>\n",
       "      <td>8</td>\n",
       "      <td>2</td>\n",
       "    </tr>\n",
       "    <tr>\n",
       "      <th>2</th>\n",
       "      <td>1</td>\n",
       "      <td>155</td>\n",
       "      <td>37</td>\n",
       "      <td>2</td>\n",
       "    </tr>\n",
       "    <tr>\n",
       "      <th>3</th>\n",
       "      <td>0</td>\n",
       "      <td>49</td>\n",
       "      <td>13</td>\n",
       "      <td>1</td>\n",
       "    </tr>\n",
       "    <tr>\n",
       "      <th>4</th>\n",
       "      <td>0</td>\n",
       "      <td>61</td>\n",
       "      <td>15</td>\n",
       "      <td>1</td>\n",
       "    </tr>\n",
       "    <tr>\n",
       "      <th>...</th>\n",
       "      <td>...</td>\n",
       "      <td>...</td>\n",
       "      <td>...</td>\n",
       "      <td>...</td>\n",
       "    </tr>\n",
       "    <tr>\n",
       "      <th>5567</th>\n",
       "      <td>1</td>\n",
       "      <td>161</td>\n",
       "      <td>35</td>\n",
       "      <td>4</td>\n",
       "    </tr>\n",
       "    <tr>\n",
       "      <th>5568</th>\n",
       "      <td>0</td>\n",
       "      <td>37</td>\n",
       "      <td>9</td>\n",
       "      <td>1</td>\n",
       "    </tr>\n",
       "    <tr>\n",
       "      <th>5569</th>\n",
       "      <td>0</td>\n",
       "      <td>57</td>\n",
       "      <td>15</td>\n",
       "      <td>2</td>\n",
       "    </tr>\n",
       "    <tr>\n",
       "      <th>5570</th>\n",
       "      <td>0</td>\n",
       "      <td>125</td>\n",
       "      <td>27</td>\n",
       "      <td>1</td>\n",
       "    </tr>\n",
       "    <tr>\n",
       "      <th>5571</th>\n",
       "      <td>0</td>\n",
       "      <td>26</td>\n",
       "      <td>7</td>\n",
       "      <td>2</td>\n",
       "    </tr>\n",
       "  </tbody>\n",
       "</table>\n",
       "<p>5169 rows × 4 columns</p>\n",
       "</div>"
      ],
      "text/plain": [
       "      target  num_characters  num_words  num_sentences\n",
       "0          0             111         24              2\n",
       "1          0              29          8              2\n",
       "2          1             155         37              2\n",
       "3          0              49         13              1\n",
       "4          0              61         15              1\n",
       "...      ...             ...        ...            ...\n",
       "5567       1             161         35              4\n",
       "5568       0              37          9              1\n",
       "5569       0              57         15              2\n",
       "5570       0             125         27              1\n",
       "5571       0              26          7              2\n",
       "\n",
       "[5169 rows x 4 columns]"
      ]
     },
     "execution_count": 40,
     "metadata": {},
     "output_type": "execute_result"
    }
   ],
   "source": [
    "numeric_df = df.select_dtypes(include='number')\n",
    "numeric_df"
   ]
  },
  {
   "cell_type": "code",
   "execution_count": 41,
   "id": "dc288a88-7d69-4033-88a2-815a26f6281d",
   "metadata": {
    "tags": []
   },
   "outputs": [
    {
     "data": {
      "text/plain": [
       "<Axes: >"
      ]
     },
     "execution_count": 41,
     "metadata": {},
     "output_type": "execute_result"
    },
    {
     "data": {
      "image/png": "[encoded data removed]",
      "text/plain": [
       "<Figure size 640x480 with 2 Axes>"
      ]
     },
     "metadata": {},
     "output_type": "display_data"
    }
   ],
   "source": [
    "sns.heatmap(numeric_df.corr(),annot=True)"
   ]
  },
  {
   "cell_type": "code",
   "execution_count": 42,
   "id": "9fdfe694-60ac-421e-a0bb-1b97c0835fbc",
   "metadata": {
    "tags": []
   },
   "outputs": [
    {
     "name": "stdout",
     "output_type": "stream",
     "text": [
      "gon na home soon want talk stuff anymor tonight k cri enough today\n"
     ]
    },
    {
     "name": "stderr",
     "output_type": "stream",
     "text": [
      "[nltk_data] Downloading package stopwords to\n",
      "[nltk_data]     C:\\Users\\KIIT\\AppData\\Roaming\\nltk_data...\n",
      "[nltk_data]   Package stopwords is already up-to-date!\n"
     ]
    }
   ],
   "source": [
    "import nltk\n",
    "from nltk.corpus import stopwords\n",
    "from nltk.stem import PorterStemmer\n",
    "import string\n",
    "\n",
    "nltk.download ('stopwords') # You may need to download the stopwords dataset\n",
    "ps= PorterStemmer()\n",
    "def transform_text(text):\n",
    "    text=text.lower()\n",
    "    text = nltk.word_tokenize(text)\n",
    "    y = []\n",
    "    for i in text:\n",
    "        if i.isalnum(): \n",
    "            y.append(i)\n",
    "    text = y[:]\n",
    "    y.clear()\n",
    "    \n",
    "    for i in text:\n",
    "        if i not in stopwords.words ('english') and i not in string.punctuation:\n",
    "            y.append(i)\n",
    "            \n",
    "    text = y[:] \n",
    "    y.clear()\n",
    "    \n",
    "    for i in text:\n",
    "        y.append(ps.stem(i))\n",
    "    return\" \".join(y)\n",
    "\n",
    "transformed_text = transform_text(\"I'm gonna be home soon and i don't want to talk about this stuff anymore tonight, k? I've cried enough today.\")\n",
    "print(transformed_text)"
   ]
  },
  {
   "cell_type": "code",
   "execution_count": 43,
   "id": "e4478130-1dbf-43d1-a998-54ed9007cbb3",
   "metadata": {
    "tags": []
   },
   "outputs": [
    {
     "data": {
      "text/plain": [
       "\"I'm gonna be home soon and i don't want to talk about this stuff anymore tonight, k? I've cried enough today.\""
      ]
     },
     "execution_count": 43,
     "metadata": {},
     "output_type": "execute_result"
    }
   ],
   "source": [
    "df['text'][10]"
   ]
  },
  {
   "cell_type": "code",
   "execution_count": 44,
   "id": "17bbb55c-d0df-46c0-83cf-620067ffd8a0",
   "metadata": {
    "tags": []
   },
   "outputs": [
    {
     "data": {
      "text/plain": [
       "'walk'"
      ]
     },
     "execution_count": 44,
     "metadata": {},
     "output_type": "execute_result"
    }
   ],
   "source": [
    "from nltk.stem.porter import PorterStemmer \n",
    "ps=PorterStemmer() \n",
    "ps.stem(\"walking\")"
   ]
  },
  {
   "cell_type": "code",
   "execution_count": 48,
   "id": "c018cd42-39c7-436f-ad51-af5071e89892",
   "metadata": {
    "tags": []
   },
   "outputs": [],
   "source": [
    "df['transformed_text'] = df['text'].apply(transform_text)"
   ]
  },
  {
   "cell_type": "code",
   "execution_count": 49,
   "id": "625be31e-ef8b-4398-9a3d-f1ad5a5489c2",
   "metadata": {
    "tags": []
   },
   "outputs": [
    {
     "data": {
      "text/html": [
       "<div>\n",
       "<style scoped>\n",
       "    .dataframe tbody tr th:only-of-type {\n",
       "        vertical-align: middle;\n",
       "    }\n",
       "\n",
       "    .dataframe tbody tr th {\n",
       "        vertical-align: top;\n",
       "    }\n",
       "\n",
       "    .dataframe thead th {\n",
       "        text-align: right;\n",
       "    }\n",
       "</style>\n",
       "<table border=\"1\" class=\"dataframe\">\n",
       "  <thead>\n",
       "    <tr style=\"text-align: right;\">\n",
       "      <th></th>\n",
       "      <th>target</th>\n",
       "      <th>text</th>\n",
       "      <th>num_characters</th>\n",
       "      <th>num_words</th>\n",
       "      <th>num_sentences</th>\n",
       "      <th>transformed_text</th>\n",
       "    </tr>\n",
       "  </thead>\n",
       "  <tbody>\n",
       "    <tr>\n",
       "      <th>0</th>\n",
       "      <td>0</td>\n",
       "      <td>Go until jurong point, crazy.. Available only ...</td>\n",
       "      <td>111</td>\n",
       "      <td>24</td>\n",
       "      <td>2</td>\n",
       "      <td>go jurong point crazi avail bugi n great world...</td>\n",
       "    </tr>\n",
       "    <tr>\n",
       "      <th>1</th>\n",
       "      <td>0</td>\n",
       "      <td>Ok lar... Joking wif u oni...</td>\n",
       "      <td>29</td>\n",
       "      <td>8</td>\n",
       "      <td>2</td>\n",
       "      <td>ok lar joke wif u oni</td>\n",
       "    </tr>\n",
       "    <tr>\n",
       "      <th>2</th>\n",
       "      <td>1</td>\n",
       "      <td>Free entry in 2 a wkly comp to win FA Cup fina...</td>\n",
       "      <td>155</td>\n",
       "      <td>37</td>\n",
       "      <td>2</td>\n",
       "      <td>free entri 2 wkli comp win fa cup final tkt 21...</td>\n",
       "    </tr>\n",
       "    <tr>\n",
       "      <th>3</th>\n",
       "      <td>0</td>\n",
       "      <td>U dun say so early hor... U c already then say...</td>\n",
       "      <td>49</td>\n",
       "      <td>13</td>\n",
       "      <td>1</td>\n",
       "      <td>u dun say earli hor u c alreadi say</td>\n",
       "    </tr>\n",
       "    <tr>\n",
       "      <th>4</th>\n",
       "      <td>0</td>\n",
       "      <td>Nah I don't think he goes to usf, he lives aro...</td>\n",
       "      <td>61</td>\n",
       "      <td>15</td>\n",
       "      <td>1</td>\n",
       "      <td>nah think goe usf live around though</td>\n",
       "    </tr>\n",
       "  </tbody>\n",
       "</table>\n",
       "</div>"
      ],
      "text/plain": [
       "   target                                               text  num_characters  \\\n",
       "0       0  Go until jurong point, crazy.. Available only ...             111   \n",
       "1       0                      Ok lar... Joking wif u oni...              29   \n",
       "2       1  Free entry in 2 a wkly comp to win FA Cup fina...             155   \n",
       "3       0  U dun say so early hor... U c already then say...              49   \n",
       "4       0  Nah I don't think he goes to usf, he lives aro...              61   \n",
       "\n",
       "   num_words  num_sentences                                   transformed_text  \n",
       "0         24              2  go jurong point crazi avail bugi n great world...  \n",
       "1          8              2                              ok lar joke wif u oni  \n",
       "2         37              2  free entri 2 wkli comp win fa cup final tkt 21...  \n",
       "3         13              1                u dun say earli hor u c alreadi say  \n",
       "4         15              1               nah think goe usf live around though  "
      ]
     },
     "execution_count": 49,
     "metadata": {},
     "output_type": "execute_result"
    }
   ],
   "source": [
    "df.head()"
   ]
  },
  {
   "cell_type": "code",
   "execution_count": 58,
   "id": "ebb9b988-ec27-4e78-8613-67dcf82d420c",
   "metadata": {
    "tags": []
   },
   "outputs": [
    {
     "name": "stdout",
     "output_type": "stream",
     "text": [
      "Collecting wordcloud\n",
      "  Downloading wordcloud-1.9.3-cp311-cp311-win_amd64.whl.metadata (3.5 kB)\n",
      "Requirement already satisfied: numpy>=1.6.1 in c:\\users\\kiit\\anaconda3\\lib\\site-packages (from wordcloud) (1.26.4)\n",
      "Requirement already satisfied: pillow in c:\\users\\kiit\\anaconda3\\lib\\site-packages (from wordcloud) (10.2.0)\n",
      "Requirement already satisfied: matplotlib in c:\\users\\kiit\\anaconda3\\lib\\site-packages (from wordcloud) (3.8.0)\n",
      "Requirement already satisfied: contourpy>=1.0.1 in c:\\users\\kiit\\anaconda3\\lib\\site-packages (from matplotlib->wordcloud) (1.2.0)\n",
      "Requirement already satisfied: cycler>=0.10 in c:\\users\\kiit\\anaconda3\\lib\\site-packages (from matplotlib->wordcloud) (0.11.0)\n",
      "Requirement already satisfied: fonttools>=4.22.0 in c:\\users\\kiit\\anaconda3\\lib\\site-packages (from matplotlib->wordcloud) (4.25.0)\n",
      "Requirement already satisfied: kiwisolver>=1.0.1 in c:\\users\\kiit\\anaconda3\\lib\\site-packages (from matplotlib->wordcloud) (1.4.4)\n",
      "Requirement already satisfied: packaging>=20.0 in c:\\users\\kiit\\anaconda3\\lib\\site-packages (from matplotlib->wordcloud) (23.1)\n",
      "Requirement already satisfied: pyparsing>=2.3.1 in c:\\users\\kiit\\anaconda3\\lib\\site-packages (from matplotlib->wordcloud) (3.0.9)\n",
      "Requirement already satisfied: python-dateutil>=2.7 in c:\\users\\kiit\\anaconda3\\lib\\site-packages (from matplotlib->wordcloud) (2.8.2)\n",
      "Requirement already satisfied: six>=1.5 in c:\\users\\kiit\\anaconda3\\lib\\site-packages (from python-dateutil>=2.7->matplotlib->wordcloud) (1.16.0)\n",
      "Downloading wordcloud-1.9.3-cp311-cp311-win_amd64.whl (300 kB)\n",
      "   ---------------------------------------- 0.0/300.2 kB ? eta -:--:--\n",
      "   - -------------------------------------- 10.2/300.2 kB ? eta -:--:--\n",
      "   --- ----------------------------------- 30.7/300.2 kB 435.7 kB/s eta 0:00:01\n",
      "   ------- ------------------------------- 61.4/300.2 kB 656.4 kB/s eta 0:00:01\n",
      "   ------------------- -------------------- 143.4/300.2 kB 1.1 MB/s eta 0:00:01\n",
      "   ------------------------------ --------- 225.3/300.2 kB 1.3 MB/s eta 0:00:01\n",
      "   ---------------------------------- ----- 256.0/300.2 kB 1.1 MB/s eta 0:00:01\n",
      "   ---------------------------------------- 300.2/300.2 kB 1.1 MB/s eta 0:00:00\n",
      "Installing collected packages: wordcloud\n",
      "Successfully installed wordcloud-1.9.3\n"
     ]
    }
   ],
   "source": [
    "!pip install wordcloud\n",
    "from wordcloud import WordCloud\n",
    "wc=WordCloud(width=500,height=500,max_font_size=10,background_color='white')"
   ]
  },
  {
   "cell_type": "code",
   "execution_count": 59,
   "id": "2bb9ae74-0f6a-41bf-803a-0f40f1373997",
   "metadata": {},
   "outputs": [],
   "source": [
    "spam_wc=wc.generate(df[df['target']==1]['transformed_text'].str.cat (sep=\"\"))"
   ]
  },
  {
   "cell_type": "code",
   "execution_count": 60,
   "id": "8aa36bb6-1a2b-49fd-a36f-e2727a2b9620",
   "metadata": {
    "tags": []
   },
   "outputs": [
    {
     "data": {
      "text/plain": [
       "<matplotlib.image.AxesImage at 0x2738f0edc90>"
      ]
     },
     "execution_count": 60,
     "metadata": {},
     "output_type": "execute_result"
    },
    {
     "data": {
      "image/png": "[encoded data removed]",
      "text/plain": [
       "<Figure size 1500x600 with 1 Axes>"
      ]
     },
     "metadata": {},
     "output_type": "display_data"
    }
   ],
   "source": [
    "plt.figure(figsize=(15,6))\n",
    "plt.imshow(spam_wc)"
   ]
  },
  {
   "cell_type": "code",
   "execution_count": 61,
   "id": "fd3dbfcd-4593-43cf-8c7a-6f26ed849d88",
   "metadata": {
    "tags": []
   },
   "outputs": [],
   "source": [
    "ham_wc=wc.generate(df [df['target']==0]['transformed_text'].str.cat(sep=\"\"))"
   ]
  },
  {
   "cell_type": "code",
   "execution_count": 62,
   "id": "85b160cc-b3cc-4a16-8a23-2bccd8841c10",
   "metadata": {
    "tags": []
   },
   "outputs": [
    {
     "data": {
      "text/plain": [
       "<matplotlib.image.AxesImage at 0x2738f119f50>"
      ]
     },
     "execution_count": 62,
     "metadata": {},
     "output_type": "execute_result"
    },
    {
     "data": {
      "image/png": "[encoded data removed]",
      "text/plain": [
       "<Figure size 1500x600 with 1 Axes>"
      ]
     },
     "metadata": {},
     "output_type": "display_data"
    }
   ],
   "source": [
    "plt.figure(figsize=(15,6))\n",
    "plt.imshow(ham_wc)"
   ]
  },
  {
   "cell_type": "code",
   "execution_count": 63,
   "id": "62843979-2f01-4caf-94c3-f2d5c15b3ccd",
   "metadata": {
    "tags": []
   },
   "outputs": [
    {
     "data": {
      "text/html": [
       "<div>\n",
       "<style scoped>\n",
       "    .dataframe tbody tr th:only-of-type {\n",
       "        vertical-align: middle;\n",
       "    }\n",
       "\n",
       "    .dataframe tbody tr th {\n",
       "        vertical-align: top;\n",
       "    }\n",
       "\n",
       "    .dataframe thead th {\n",
       "        text-align: right;\n",
       "    }\n",
       "</style>\n",
       "<table border=\"1\" class=\"dataframe\">\n",
       "  <thead>\n",
       "    <tr style=\"text-align: right;\">\n",
       "      <th></th>\n",
       "      <th>target</th>\n",
       "      <th>text</th>\n",
       "      <th>num_characters</th>\n",
       "      <th>num_words</th>\n",
       "      <th>num_sentences</th>\n",
       "      <th>transformed_text</th>\n",
       "    </tr>\n",
       "  </thead>\n",
       "  <tbody>\n",
       "    <tr>\n",
       "      <th>0</th>\n",
       "      <td>0</td>\n",
       "      <td>Go until jurong point, crazy.. Available only ...</td>\n",
       "      <td>111</td>\n",
       "      <td>24</td>\n",
       "      <td>2</td>\n",
       "      <td>go jurong point crazi avail bugi n great world...</td>\n",
       "    </tr>\n",
       "    <tr>\n",
       "      <th>1</th>\n",
       "      <td>0</td>\n",
       "      <td>Ok lar... Joking wif u oni...</td>\n",
       "      <td>29</td>\n",
       "      <td>8</td>\n",
       "      <td>2</td>\n",
       "      <td>ok lar joke wif u oni</td>\n",
       "    </tr>\n",
       "    <tr>\n",
       "      <th>2</th>\n",
       "      <td>1</td>\n",
       "      <td>Free entry in 2 a wkly comp to win FA Cup fina...</td>\n",
       "      <td>155</td>\n",
       "      <td>37</td>\n",
       "      <td>2</td>\n",
       "      <td>free entri 2 wkli comp win fa cup final tkt 21...</td>\n",
       "    </tr>\n",
       "    <tr>\n",
       "      <th>3</th>\n",
       "      <td>0</td>\n",
       "      <td>U dun say so early hor... U c already then say...</td>\n",
       "      <td>49</td>\n",
       "      <td>13</td>\n",
       "      <td>1</td>\n",
       "      <td>u dun say earli hor u c alreadi say</td>\n",
       "    </tr>\n",
       "    <tr>\n",
       "      <th>4</th>\n",
       "      <td>0</td>\n",
       "      <td>Nah I don't think he goes to usf, he lives aro...</td>\n",
       "      <td>61</td>\n",
       "      <td>15</td>\n",
       "      <td>1</td>\n",
       "      <td>nah think goe usf live around though</td>\n",
       "    </tr>\n",
       "  </tbody>\n",
       "</table>\n",
       "</div>"
      ],
      "text/plain": [
       "   target                                               text  num_characters  \\\n",
       "0       0  Go until jurong point, crazy.. Available only ...             111   \n",
       "1       0                      Ok lar... Joking wif u oni...              29   \n",
       "2       1  Free entry in 2 a wkly comp to win FA Cup fina...             155   \n",
       "3       0  U dun say so early hor... U c already then say...              49   \n",
       "4       0  Nah I don't think he goes to usf, he lives aro...              61   \n",
       "\n",
       "   num_words  num_sentences                                   transformed_text  \n",
       "0         24              2  go jurong point crazi avail bugi n great world...  \n",
       "1          8              2                              ok lar joke wif u oni  \n",
       "2         37              2  free entri 2 wkli comp win fa cup final tkt 21...  \n",
       "3         13              1                u dun say earli hor u c alreadi say  \n",
       "4         15              1               nah think goe usf live around though  "
      ]
     },
     "execution_count": 63,
     "metadata": {},
     "output_type": "execute_result"
    }
   ],
   "source": [
    "df.head()"
   ]
  },
  {
   "cell_type": "code",
   "execution_count": 64,
   "id": "e0f28f4f-a77f-42b2-ae16-bcb171f8e7d1",
   "metadata": {
    "tags": []
   },
   "outputs": [
    {
     "data": {
      "text/plain": [
       "9939"
      ]
     },
     "execution_count": 64,
     "metadata": {},
     "output_type": "execute_result"
    }
   ],
   "source": [
    "spam_corpus = []\n",
    "for msg in df[df['target']==1]['transformed_text'].tolist():\n",
    "        for word in msg.split():\n",
    "            spam_corpus.append(word)\n",
    "len(spam_corpus)"
   ]
  },
  {
   "cell_type": "code",
   "execution_count": 65,
   "id": "5f38d8f8-ffd1-4e01-bbf5-821287de23e7",
   "metadata": {
    "tags": []
   },
   "outputs": [
    {
     "data": {
      "image/png": "[encoded data removed]",
      "text/plain": [
       "<Figure size 640x480 with 1 Axes>"
      ]
     },
     "metadata": {},
     "output_type": "display_data"
    }
   ],
   "source": [
    "from collections import Counter\n",
    "wo=pd.DataFrame(Counter(spam_corpus).most_common(30))[0]\n",
    "mo=pd.DataFrame(Counter(spam_corpus).most_common (30))[1]\n",
    "sns.barplot(x=wo,y=mo)\n",
    "plt.xticks(rotation=\"vertical\")\n",
    "plt.show()"
   ]
  },
  {
   "cell_type": "code",
   "execution_count": 66,
   "id": "88bafa33-2a82-410a-993d-6afebfa0446e",
   "metadata": {
    "tags": []
   },
   "outputs": [
    {
     "data": {
      "text/plain": [
       "35404"
      ]
     },
     "execution_count": 66,
     "metadata": {},
     "output_type": "execute_result"
    }
   ],
   "source": [
    "ham_corpus = []\n",
    "for msg in df[df['target']==0]['transformed_text'].tolist():\n",
    "        for word in msg.split():\n",
    "            ham_corpus.append(word)\n",
    "len(ham_corpus)"
   ]
  },
  {
   "cell_type": "code",
   "execution_count": 67,
   "id": "9fc1f76a-a38b-40cd-85ca-fde4e44cc803",
   "metadata": {},
   "outputs": [
    {
     "data": {
      "image/png": "[encoded data removed]",
      "text/plain": [
       "<Figure size 640x480 with 1 Axes>"
      ]
     },
     "metadata": {},
     "output_type": "display_data"
    }
   ],
   "source": [
    "wo=pd.DataFrame(Counter(ham_corpus).most_common(30))[0]\n",
    "mo=pd.DataFrame(Counter(ham_corpus).most_common (30))[1]\n",
    "sns.barplot(x=wo,y=mo)\n",
    "plt.xticks(rotation=\"vertical\")\n",
    "plt.show()"
   ]
  },
  {
   "cell_type": "code",
   "execution_count": 68,
   "id": "bfbed7a2-5156-4551-8a56-07d552e3d8d1",
   "metadata": {
    "tags": []
   },
   "outputs": [
    {
     "data": {
      "text/html": [
       "<div>\n",
       "<style scoped>\n",
       "    .dataframe tbody tr th:only-of-type {\n",
       "        vertical-align: middle;\n",
       "    }\n",
       "\n",
       "    .dataframe tbody tr th {\n",
       "        vertical-align: top;\n",
       "    }\n",
       "\n",
       "    .dataframe thead th {\n",
       "        text-align: right;\n",
       "    }\n",
       "</style>\n",
       "<table border=\"1\" class=\"dataframe\">\n",
       "  <thead>\n",
       "    <tr style=\"text-align: right;\">\n",
       "      <th></th>\n",
       "      <th>target</th>\n",
       "      <th>text</th>\n",
       "      <th>num_characters</th>\n",
       "      <th>num_words</th>\n",
       "      <th>num_sentences</th>\n",
       "      <th>transformed_text</th>\n",
       "    </tr>\n",
       "  </thead>\n",
       "  <tbody>\n",
       "    <tr>\n",
       "      <th>0</th>\n",
       "      <td>0</td>\n",
       "      <td>Go until jurong point, crazy.. Available only ...</td>\n",
       "      <td>111</td>\n",
       "      <td>24</td>\n",
       "      <td>2</td>\n",
       "      <td>go jurong point crazi avail bugi n great world...</td>\n",
       "    </tr>\n",
       "    <tr>\n",
       "      <th>1</th>\n",
       "      <td>0</td>\n",
       "      <td>Ok lar... Joking wif u oni...</td>\n",
       "      <td>29</td>\n",
       "      <td>8</td>\n",
       "      <td>2</td>\n",
       "      <td>ok lar joke wif u oni</td>\n",
       "    </tr>\n",
       "    <tr>\n",
       "      <th>2</th>\n",
       "      <td>1</td>\n",
       "      <td>Free entry in 2 a wkly comp to win FA Cup fina...</td>\n",
       "      <td>155</td>\n",
       "      <td>37</td>\n",
       "      <td>2</td>\n",
       "      <td>free entri 2 wkli comp win fa cup final tkt 21...</td>\n",
       "    </tr>\n",
       "    <tr>\n",
       "      <th>3</th>\n",
       "      <td>0</td>\n",
       "      <td>U dun say so early hor... U c already then say...</td>\n",
       "      <td>49</td>\n",
       "      <td>13</td>\n",
       "      <td>1</td>\n",
       "      <td>u dun say earli hor u c alreadi say</td>\n",
       "    </tr>\n",
       "    <tr>\n",
       "      <th>4</th>\n",
       "      <td>0</td>\n",
       "      <td>Nah I don't think he goes to usf, he lives aro...</td>\n",
       "      <td>61</td>\n",
       "      <td>15</td>\n",
       "      <td>1</td>\n",
       "      <td>nah think goe usf live around though</td>\n",
       "    </tr>\n",
       "  </tbody>\n",
       "</table>\n",
       "</div>"
      ],
      "text/plain": [
       "   target                                               text  num_characters  \\\n",
       "0       0  Go until jurong point, crazy.. Available only ...             111   \n",
       "1       0                      Ok lar... Joking wif u oni...              29   \n",
       "2       1  Free entry in 2 a wkly comp to win FA Cup fina...             155   \n",
       "3       0  U dun say so early hor... U c already then say...              49   \n",
       "4       0  Nah I don't think he goes to usf, he lives aro...              61   \n",
       "\n",
       "   num_words  num_sentences                                   transformed_text  \n",
       "0         24              2  go jurong point crazi avail bugi n great world...  \n",
       "1          8              2                              ok lar joke wif u oni  \n",
       "2         37              2  free entri 2 wkli comp win fa cup final tkt 21...  \n",
       "3         13              1                u dun say earli hor u c alreadi say  \n",
       "4         15              1               nah think goe usf live around though  "
      ]
     },
     "execution_count": 68,
     "metadata": {},
     "output_type": "execute_result"
    }
   ],
   "source": [
    "df.head()"
   ]
  },
  {
   "cell_type": "code",
   "execution_count": 69,
   "id": "cdf322e4-9106-4a56-ad58-39bb63a94936",
   "metadata": {
    "tags": []
   },
   "outputs": [],
   "source": [
    "from sklearn.feature_extraction.text import CountVectorizer, TfidfVectorizer \n",
    "cv = CountVectorizer()\n",
    "tfidf= TfidfVectorizer (max_features=3000)\n"
   ]
  },
  {
   "cell_type": "code",
   "execution_count": 70,
   "id": "436909cd-65da-4696-8f23-cb8e36d8ef33",
   "metadata": {
    "tags": []
   },
   "outputs": [],
   "source": [
    "X = tfidf.fit_transform(df[ 'transformed_text']).toarray()"
   ]
  },
  {
   "cell_type": "code",
   "execution_count": 71,
   "id": "9a16ee3b-f766-45f5-9631-d761b636a685",
   "metadata": {
    "tags": []
   },
   "outputs": [
    {
     "data": {
      "text/plain": [
       "(5169, 3000)"
      ]
     },
     "execution_count": 71,
     "metadata": {},
     "output_type": "execute_result"
    }
   ],
   "source": [
    "X.shape"
   ]
  },
  {
   "cell_type": "code",
   "execution_count": 72,
   "id": "f6041996-e50f-4f56-8117-27b6bec0a2fa",
   "metadata": {
    "tags": []
   },
   "outputs": [],
   "source": [
    "y=df['target'].values"
   ]
  },
  {
   "cell_type": "code",
   "execution_count": 73,
   "id": "4b066177-f8ad-4705-a2d1-938e2c2f6aad",
   "metadata": {
    "tags": []
   },
   "outputs": [],
   "source": [
    "\n",
    "from sklearn.model_selection import train_test_split\n",
    "X_train,X_test,y_train, y_test=train_test_split(X,y, test_size=0.2, random_state=2)\n"
   ]
  },
  {
   "cell_type": "code",
   "execution_count": 74,
   "id": "b87655ba-28c1-49a4-b64f-2176e4082e47",
   "metadata": {
    "tags": []
   },
   "outputs": [],
   "source": [
    "from sklearn.naive_bayes import GaussianNB, MultinomialNB, BernoulliNB\n",
    "from sklearn.metrics import accuracy_score, confusion_matrix, precision_score\n",
    "gnb=GaussianNB()\n",
    "mnb=MultinomialNB() \n",
    "bnb=BernoulliNB()\n",
    "gnb.fit(X_train,y_train)\n",
    "y_pred1=gnb.predict(X_test)"
   ]
  },
  {
   "cell_type": "code",
   "execution_count": 75,
   "id": "d44ecaed-ed20-4755-8a31-6ca18b461f32",
   "metadata": {
    "tags": []
   },
   "outputs": [
    {
     "name": "stdout",
     "output_type": "stream",
     "text": [
      "0.8694390715667312\n",
      "[[788 108]\n",
      " [ 27 111]]\n",
      "0.5068493150684932\n"
     ]
    }
   ],
   "source": [
    "print(accuracy_score (y_test,y_pred1))\n",
    "print(confusion_matrix(y_test,y_pred1))\n",
    "print(precision_score (y_test,y_pred1))"
   ]
  },
  {
   "cell_type": "code",
   "execution_count": 76,
   "id": "d38356df-8d20-493d-bb47-8a2a618e2d73",
   "metadata": {
    "tags": []
   },
   "outputs": [
    {
     "name": "stdout",
     "output_type": "stream",
     "text": [
      "0.9709864603481625\n",
      "[[896   0]\n",
      " [ 30 108]]\n",
      "1.0\n"
     ]
    }
   ],
   "source": [
    "mnb.fit(X_train,y_train)\n",
    "y_pred2=mnb.predict(X_test)\n",
    "print(accuracy_score (y_test,y_pred2))\n",
    "print(confusion_matrix(y_test,y_pred2))\n",
    "print(precision_score (y_test,y_pred2))"
   ]
  },
  {
   "cell_type": "code",
   "execution_count": 77,
   "id": "8409b639-c8ed-4c53-be37-63aac5c8c50e",
   "metadata": {
    "tags": []
   },
   "outputs": [
    {
     "name": "stdout",
     "output_type": "stream",
     "text": [
      "0.9835589941972921\n",
      "[[895   1]\n",
      " [ 16 122]]\n",
      "0.991869918699187\n"
     ]
    }
   ],
   "source": [
    "bnb.fit(X_train,y_train)\n",
    "y_pred3=bnb.predict(X_test)\n",
    "print(accuracy_score (y_test,y_pred3))\n",
    "print(confusion_matrix(y_test,y_pred3))\n",
    "print(precision_score (y_test,y_pred3))"
   ]
  },
  {
   "cell_type": "code",
   "execution_count": 79,
   "id": "01922a49-da4c-49d2-92f6-18104694c71f",
   "metadata": {
    "tags": []
   },
   "outputs": [
    {
     "name": "stdout",
     "output_type": "stream",
     "text": [
      "Collecting xgboost\n",
      "  Downloading xgboost-2.0.3-py3-none-win_amd64.whl.metadata (2.0 kB)\n",
      "Requirement already satisfied: numpy in c:\\users\\kiit\\anaconda3\\lib\\site-packages (from xgboost) (1.26.4)\n",
      "Requirement already satisfied: scipy in c:\\users\\kiit\\anaconda3\\lib\\site-packages (from xgboost) (1.11.4)\n",
      "Downloading xgboost-2.0.3-py3-none-win_amd64.whl (99.8 MB)\n",
      "   ---------------------------------------- 0.0/99.8 MB ? eta -:--:--\n",
      "   ---------------------------------------- 0.0/99.8 MB ? eta -:--:--\n",
      "   ---------------------------------------- 0.1/99.8 MB 544.7 kB/s eta 0:03:04\n",
      "   ---------------------------------------- 0.1/99.8 MB 901.1 kB/s eta 0:01:51\n",
      "   ---------------------------------------- 0.3/99.8 MB 1.7 MB/s eta 0:00:58\n",
      "   ---------------------------------------- 0.4/99.8 MB 2.0 MB/s eta 0:00:51\n",
      "   ---------------------------------------- 0.6/99.8 MB 2.2 MB/s eta 0:00:45\n",
      "   ---------------------------------------- 1.0/99.8 MB 3.1 MB/s eta 0:00:33\n",
      "    --------------------------------------- 1.3/99.8 MB 3.5 MB/s eta 0:00:29\n",
      "    --------------------------------------- 2.2/99.8 MB 5.3 MB/s eta 0:00:19\n",
      "    --------------------------------------- 2.3/99.8 MB 5.0 MB/s eta 0:00:20\n",
      "    --------------------------------------- 2.4/99.8 MB 5.0 MB/s eta 0:00:20\n",
      "    --------------------------------------- 2.4/99.8 MB 5.0 MB/s eta 0:00:20\n",
      "    --------------------------------------- 2.4/99.8 MB 5.0 MB/s eta 0:00:20\n",
      "    --------------------------------------- 2.4/99.8 MB 5.0 MB/s eta 0:00:20\n",
      "   - -------------------------------------- 4.5/99.8 MB 6.6 MB/s eta 0:00:15\n",
      "   - -------------------------------------- 4.6/99.8 MB 6.2 MB/s eta 0:00:16\n",
      "   - -------------------------------------- 4.9/99.8 MB 6.4 MB/s eta 0:00:15\n",
      "   -- ------------------------------------- 5.4/99.8 MB 6.5 MB/s eta 0:00:15\n",
      "   -- ------------------------------------- 5.6/99.8 MB 6.5 MB/s eta 0:00:15\n",
      "   -- ------------------------------------- 6.4/99.8 MB 7.0 MB/s eta 0:00:14\n",
      "   -- ------------------------------------- 6.6/99.8 MB 6.8 MB/s eta 0:00:14\n",
      "   -- ------------------------------------- 7.0/99.8 MB 7.0 MB/s eta 0:00:14\n",
      "   -- ------------------------------------- 7.4/99.8 MB 6.9 MB/s eta 0:00:14\n",
      "   --- ------------------------------------ 7.6/99.8 MB 6.9 MB/s eta 0:00:14\n",
      "   --- ------------------------------------ 7.9/99.8 MB 6.8 MB/s eta 0:00:14\n",
      "   --- ------------------------------------ 8.0/99.8 MB 6.9 MB/s eta 0:00:14\n",
      "   --- ------------------------------------ 8.2/99.8 MB 6.6 MB/s eta 0:00:14\n",
      "   --- ------------------------------------ 8.4/99.8 MB 6.6 MB/s eta 0:00:14\n",
      "   --- ------------------------------------ 9.1/99.8 MB 6.8 MB/s eta 0:00:14\n",
      "   --- ------------------------------------ 9.7/99.8 MB 7.0 MB/s eta 0:00:13\n",
      "   ---- ----------------------------------- 10.0/99.8 MB 7.0 MB/s eta 0:00:13\n",
      "   ---- ----------------------------------- 10.1/99.8 MB 6.9 MB/s eta 0:00:13\n",
      "   ---- ----------------------------------- 10.5/99.8 MB 7.6 MB/s eta 0:00:12\n",
      "   ---- ----------------------------------- 10.8/99.8 MB 7.9 MB/s eta 0:00:12\n",
      "   ---- ----------------------------------- 11.1/99.8 MB 7.9 MB/s eta 0:00:12\n",
      "   ---- ----------------------------------- 11.6/99.8 MB 8.0 MB/s eta 0:00:12\n",
      "   ---- ----------------------------------- 12.2/99.8 MB 7.9 MB/s eta 0:00:12\n",
      "   ----- ---------------------------------- 12.8/99.8 MB 9.5 MB/s eta 0:00:10\n",
      "   ----- ---------------------------------- 13.0/99.8 MB 9.1 MB/s eta 0:00:10\n",
      "   ----- ---------------------------------- 13.5/99.8 MB 8.7 MB/s eta 0:00:10\n",
      "   ----- ---------------------------------- 13.9/99.8 MB 8.4 MB/s eta 0:00:11\n",
      "   ----- ---------------------------------- 14.4/99.8 MB 8.1 MB/s eta 0:00:11\n",
      "   ----- ---------------------------------- 14.4/99.8 MB 8.0 MB/s eta 0:00:11\n",
      "   ----- ---------------------------------- 14.4/99.8 MB 8.0 MB/s eta 0:00:11\n",
      "   ----- ---------------------------------- 14.6/99.8 MB 7.4 MB/s eta 0:00:12\n",
      "   ----- ---------------------------------- 14.7/99.8 MB 7.0 MB/s eta 0:00:13\n",
      "   ----- ---------------------------------- 14.7/99.8 MB 7.0 MB/s eta 0:00:13\n",
      "   ----- ---------------------------------- 14.7/99.8 MB 7.0 MB/s eta 0:00:13\n",
      "   ----- ---------------------------------- 14.9/99.8 MB 6.8 MB/s eta 0:00:13\n",
      "   ------ --------------------------------- 15.0/99.8 MB 6.5 MB/s eta 0:00:13\n",
      "   ------ --------------------------------- 15.1/99.8 MB 6.4 MB/s eta 0:00:14\n",
      "   ------ --------------------------------- 15.2/99.8 MB 6.3 MB/s eta 0:00:14\n",
      "   ------ --------------------------------- 15.3/99.8 MB 6.2 MB/s eta 0:00:14\n",
      "   ------ --------------------------------- 15.5/99.8 MB 6.1 MB/s eta 0:00:14\n",
      "   ------ --------------------------------- 15.6/99.8 MB 6.0 MB/s eta 0:00:15\n",
      "   ------ --------------------------------- 15.7/99.8 MB 5.9 MB/s eta 0:00:15\n",
      "   ------ --------------------------------- 15.7/99.8 MB 5.8 MB/s eta 0:00:15\n",
      "   ------ --------------------------------- 15.9/99.8 MB 5.6 MB/s eta 0:00:15\n",
      "   ------ --------------------------------- 16.0/99.8 MB 5.5 MB/s eta 0:00:16\n",
      "   ------ --------------------------------- 16.0/99.8 MB 5.4 MB/s eta 0:00:16\n",
      "   ------ --------------------------------- 16.1/99.8 MB 5.3 MB/s eta 0:00:16\n",
      "   ------ --------------------------------- 16.4/99.8 MB 5.2 MB/s eta 0:00:17\n",
      "   ------ --------------------------------- 16.9/99.8 MB 5.3 MB/s eta 0:00:16\n",
      "   ------ --------------------------------- 17.4/99.8 MB 5.4 MB/s eta 0:00:16\n",
      "   ------- -------------------------------- 17.8/99.8 MB 5.4 MB/s eta 0:00:16\n",
      "   ------- -------------------------------- 18.5/99.8 MB 5.7 MB/s eta 0:00:15\n",
      "   ------- -------------------------------- 19.3/99.8 MB 5.8 MB/s eta 0:00:14\n",
      "   -------- ------------------------------- 20.1/99.8 MB 5.8 MB/s eta 0:00:14\n",
      "   -------- ------------------------------- 21.0/99.8 MB 6.2 MB/s eta 0:00:13\n",
      "   -------- ------------------------------- 21.6/99.8 MB 6.4 MB/s eta 0:00:13\n",
      "   -------- ------------------------------- 22.0/99.8 MB 6.4 MB/s eta 0:00:13\n",
      "   --------- ------------------------------ 22.5/99.8 MB 6.4 MB/s eta 0:00:13\n",
      "   --------- ------------------------------ 23.3/99.8 MB 6.5 MB/s eta 0:00:12\n",
      "   --------- ------------------------------ 24.1/99.8 MB 6.6 MB/s eta 0:00:12\n",
      "   --------- ------------------------------ 24.6/99.8 MB 6.7 MB/s eta 0:00:12\n",
      "   ---------- ----------------------------- 25.0/99.8 MB 8.1 MB/s eta 0:00:10\n",
      "   ---------- ----------------------------- 25.0/99.8 MB 8.1 MB/s eta 0:00:10\n",
      "   ---------- ----------------------------- 25.0/99.8 MB 8.1 MB/s eta 0:00:10\n",
      "   ---------- ----------------------------- 25.0/99.8 MB 8.1 MB/s eta 0:00:10\n",
      "   ---------- ----------------------------- 25.0/99.8 MB 8.1 MB/s eta 0:00:10\n",
      "   ---------- ----------------------------- 25.0/99.8 MB 8.1 MB/s eta 0:00:10\n",
      "   ---------- ----------------------------- 25.0/99.8 MB 8.1 MB/s eta 0:00:10\n",
      "   ---------- ----------------------------- 25.0/99.8 MB 8.1 MB/s eta 0:00:10\n",
      "   ---------- ----------------------------- 25.0/99.8 MB 8.1 MB/s eta 0:00:10\n",
      "   ---------- ----------------------------- 25.0/99.8 MB 8.1 MB/s eta 0:00:10\n",
      "   ---------- ----------------------------- 25.0/99.8 MB 8.1 MB/s eta 0:00:10\n",
      "   ---------- ----------------------------- 25.0/99.8 MB 5.8 MB/s eta 0:00:13\n",
      "   ---------- ----------------------------- 25.0/99.8 MB 5.8 MB/s eta 0:00:13\n",
      "   ---------- ----------------------------- 25.0/99.8 MB 5.5 MB/s eta 0:00:14\n",
      "   ---------- ----------------------------- 25.0/99.8 MB 5.4 MB/s eta 0:00:14\n",
      "   ---------- ----------------------------- 25.1/99.8 MB 5.2 MB/s eta 0:00:15\n",
      "   ---------- ----------------------------- 25.1/99.8 MB 5.1 MB/s eta 0:00:15\n",
      "   ---------- ----------------------------- 25.1/99.8 MB 5.2 MB/s eta 0:00:15\n",
      "   ---------- ----------------------------- 25.3/99.8 MB 5.1 MB/s eta 0:00:15\n",
      "   ---------- ----------------------------- 25.4/99.8 MB 5.1 MB/s eta 0:00:15\n",
      "   ---------- ----------------------------- 25.5/99.8 MB 5.2 MB/s eta 0:00:15\n",
      "   ---------- ----------------------------- 26.0/99.8 MB 5.5 MB/s eta 0:00:14\n",
      "   ---------- ----------------------------- 26.3/99.8 MB 5.9 MB/s eta 0:00:13\n",
      "   ---------- ----------------------------- 26.3/99.8 MB 5.8 MB/s eta 0:00:13\n",
      "   ---------- ----------------------------- 26.4/99.8 MB 5.9 MB/s eta 0:00:13\n",
      "   ---------- ----------------------------- 27.4/99.8 MB 5.9 MB/s eta 0:00:13\n",
      "   ----------- ---------------------------- 27.5/99.8 MB 5.7 MB/s eta 0:00:13\n",
      "   ----------- ---------------------------- 28.0/99.8 MB 5.8 MB/s eta 0:00:13\n",
      "   ----------- ---------------------------- 28.3/99.8 MB 5.8 MB/s eta 0:00:13\n",
      "   ----------- ---------------------------- 28.6/99.8 MB 5.6 MB/s eta 0:00:13\n",
      "   ----------- ---------------------------- 29.1/99.8 MB 5.5 MB/s eta 0:00:13\n",
      "   ----------- ---------------------------- 29.5/99.8 MB 5.5 MB/s eta 0:00:13\n",
      "   ----------- ---------------------------- 29.9/99.8 MB 5.5 MB/s eta 0:00:13\n",
      "   ------------ --------------------------- 30.1/99.8 MB 5.3 MB/s eta 0:00:14\n",
      "   ------------ --------------------------- 30.6/99.8 MB 5.2 MB/s eta 0:00:14\n",
      "   ------------ --------------------------- 30.8/99.8 MB 5.2 MB/s eta 0:00:14\n",
      "   ------------ --------------------------- 31.1/99.8 MB 5.1 MB/s eta 0:00:14\n",
      "   ------------ --------------------------- 31.6/99.8 MB 5.0 MB/s eta 0:00:14\n",
      "   ------------ --------------------------- 32.0/99.8 MB 5.1 MB/s eta 0:00:14\n",
      "   ------------ --------------------------- 32.2/99.8 MB 5.1 MB/s eta 0:00:14\n",
      "   ------------- -------------------------- 32.8/99.8 MB 5.0 MB/s eta 0:00:14\n",
      "   ------------- -------------------------- 33.1/99.8 MB 5.0 MB/s eta 0:00:14\n",
      "   ------------- -------------------------- 33.4/99.8 MB 4.9 MB/s eta 0:00:14\n",
      "   ------------- -------------------------- 33.8/99.8 MB 4.9 MB/s eta 0:00:14\n",
      "   ------------- -------------------------- 34.3/99.8 MB 4.8 MB/s eta 0:00:14\n",
      "   -------------- ------------------------- 35.0/99.8 MB 4.8 MB/s eta 0:00:14\n",
      "   -------------- ------------------------- 35.0/99.8 MB 4.8 MB/s eta 0:00:14\n",
      "   -------------- ------------------------- 35.7/99.8 MB 7.9 MB/s eta 0:00:09\n",
      "   -------------- ------------------------- 35.7/99.8 MB 7.9 MB/s eta 0:00:09\n",
      "   -------------- ------------------------- 36.4/99.8 MB 8.2 MB/s eta 0:00:08\n",
      "   -------------- ------------------------- 36.8/99.8 MB 8.7 MB/s eta 0:00:08\n",
      "   -------------- ------------------------- 37.1/99.8 MB 8.5 MB/s eta 0:00:08\n",
      "   -------------- ------------------------- 37.3/99.8 MB 8.2 MB/s eta 0:00:08\n",
      "   -------------- ------------------------- 37.3/99.8 MB 8.2 MB/s eta 0:00:08\n",
      "   --------------- ------------------------ 37.6/99.8 MB 7.7 MB/s eta 0:00:09\n",
      "   --------------- ------------------------ 37.7/99.8 MB 7.6 MB/s eta 0:00:09\n",
      "   --------------- ------------------------ 37.8/99.8 MB 7.3 MB/s eta 0:00:09\n",
      "   --------------- ------------------------ 38.0/99.8 MB 7.2 MB/s eta 0:00:09\n",
      "   --------------- ------------------------ 38.1/99.8 MB 7.0 MB/s eta 0:00:09\n",
      "   --------------- ------------------------ 38.4/99.8 MB 7.0 MB/s eta 0:00:09\n",
      "   --------------- ------------------------ 38.9/99.8 MB 7.1 MB/s eta 0:00:09\n",
      "   --------------- ------------------------ 39.2/99.8 MB 7.0 MB/s eta 0:00:09\n",
      "   --------------- ------------------------ 39.6/99.8 MB 7.0 MB/s eta 0:00:09\n",
      "   --------------- ------------------------ 39.9/99.8 MB 7.0 MB/s eta 0:00:09\n",
      "   ---------------- ----------------------- 40.1/99.8 MB 7.0 MB/s eta 0:00:09\n",
      "   ---------------- ----------------------- 40.6/99.8 MB 7.0 MB/s eta 0:00:09\n",
      "   ---------------- ----------------------- 40.9/99.8 MB 6.9 MB/s eta 0:00:09\n",
      "   ---------------- ----------------------- 41.2/99.8 MB 7.0 MB/s eta 0:00:09\n",
      "   ---------------- ----------------------- 41.7/99.8 MB 7.0 MB/s eta 0:00:09\n",
      "   ---------------- ----------------------- 42.0/99.8 MB 7.0 MB/s eta 0:00:09\n",
      "   ----------------- ---------------------- 42.4/99.8 MB 6.9 MB/s eta 0:00:09\n",
      "   ----------------- ---------------------- 42.7/99.8 MB 7.0 MB/s eta 0:00:09\n",
      "   ----------------- ---------------------- 43.0/99.8 MB 6.9 MB/s eta 0:00:09\n",
      "   ----------------- ---------------------- 43.4/99.8 MB 7.1 MB/s eta 0:00:08\n",
      "   ----------------- ---------------------- 43.6/99.8 MB 6.8 MB/s eta 0:00:09\n",
      "   ----------------- ---------------------- 44.1/99.8 MB 7.0 MB/s eta 0:00:08\n",
      "   ----------------- ---------------------- 44.1/99.8 MB 7.0 MB/s eta 0:00:08\n",
      "   ----------------- ---------------------- 44.6/99.8 MB 6.7 MB/s eta 0:00:09\n",
      "   ----------------- ---------------------- 44.7/99.8 MB 6.5 MB/s eta 0:00:09\n",
      "   ------------------ --------------------- 45.1/99.8 MB 6.5 MB/s eta 0:00:09\n",
      "   ------------------ --------------------- 45.5/99.8 MB 6.5 MB/s eta 0:00:09\n",
      "   ------------------ --------------------- 45.9/99.8 MB 6.5 MB/s eta 0:00:09\n",
      "   ------------------ --------------------- 46.1/99.8 MB 6.5 MB/s eta 0:00:09\n",
      "   ------------------ --------------------- 46.6/99.8 MB 6.4 MB/s eta 0:00:09\n",
      "   ------------------ --------------------- 46.9/99.8 MB 6.4 MB/s eta 0:00:09\n",
      "   ------------------ --------------------- 47.3/99.8 MB 6.6 MB/s eta 0:00:08\n",
      "   ------------------- -------------------- 47.7/99.8 MB 6.7 MB/s eta 0:00:08\n",
      "   ------------------- -------------------- 48.1/99.8 MB 7.3 MB/s eta 0:00:08\n",
      "   ------------------- -------------------- 48.5/99.8 MB 7.5 MB/s eta 0:00:07\n",
      "   ------------------- -------------------- 48.7/99.8 MB 7.5 MB/s eta 0:00:07\n",
      "   ------------------- -------------------- 49.1/99.8 MB 7.5 MB/s eta 0:00:07\n",
      "   ------------------- -------------------- 49.4/99.8 MB 7.4 MB/s eta 0:00:07\n",
      "   -------------------- ------------------- 49.9/99.8 MB 7.4 MB/s eta 0:00:07\n",
      "   -------------------- ------------------- 50.3/99.8 MB 7.6 MB/s eta 0:00:07\n",
      "   -------------------- ------------------- 50.9/99.8 MB 7.9 MB/s eta 0:00:07\n",
      "   -------------------- ------------------- 51.0/99.8 MB 7.7 MB/s eta 0:00:07\n",
      "   -------------------- ------------------- 51.1/99.8 MB 7.4 MB/s eta 0:00:07\n",
      "   -------------------- ------------------- 51.6/99.8 MB 7.5 MB/s eta 0:00:07\n",
      "   -------------------- ------------------- 51.9/99.8 MB 7.4 MB/s eta 0:00:07\n",
      "   -------------------- ------------------- 52.4/99.8 MB 7.4 MB/s eta 0:00:07\n",
      "   --------------------- ------------------ 52.8/99.8 MB 7.5 MB/s eta 0:00:07\n",
      "   --------------------- ------------------ 53.2/99.8 MB 7.7 MB/s eta 0:00:07\n",
      "   --------------------- ------------------ 53.3/99.8 MB 7.4 MB/s eta 0:00:07\n",
      "   --------------------- ------------------ 53.8/99.8 MB 7.7 MB/s eta 0:00:06\n",
      "   --------------------- ------------------ 54.0/99.8 MB 7.4 MB/s eta 0:00:07\n",
      "   --------------------- ------------------ 54.6/99.8 MB 7.8 MB/s eta 0:00:06\n",
      "   --------------------- ------------------ 54.9/99.8 MB 7.6 MB/s eta 0:00:06\n",
      "   ---------------------- ----------------- 55.4/99.8 MB 7.9 MB/s eta 0:00:06\n",
      "   ---------------------- ----------------- 55.9/99.8 MB 8.0 MB/s eta 0:00:06\n",
      "   ---------------------- ----------------- 56.0/99.8 MB 8.0 MB/s eta 0:00:06\n",
      "   ---------------------- ----------------- 56.2/99.8 MB 7.8 MB/s eta 0:00:06\n",
      "   ---------------------- ----------------- 56.6/99.8 MB 7.7 MB/s eta 0:00:06\n",
      "   ---------------------- ----------------- 57.1/99.8 MB 7.8 MB/s eta 0:00:06\n",
      "   ----------------------- ---------------- 57.5/99.8 MB 7.8 MB/s eta 0:00:06\n",
      "   ----------------------- ---------------- 57.6/99.8 MB 7.8 MB/s eta 0:00:06\n",
      "   ----------------------- ---------------- 58.1/99.8 MB 7.7 MB/s eta 0:00:06\n",
      "   ----------------------- ---------------- 58.4/99.8 MB 7.6 MB/s eta 0:00:06\n",
      "   ----------------------- ---------------- 58.9/99.8 MB 7.9 MB/s eta 0:00:06\n",
      "   ----------------------- ---------------- 59.0/99.8 MB 7.8 MB/s eta 0:00:06\n",
      "   ----------------------- ---------------- 59.3/99.8 MB 7.5 MB/s eta 0:00:06\n",
      "   ------------------------ --------------- 59.9/99.8 MB 7.8 MB/s eta 0:00:06\n",
      "   ------------------------ --------------- 59.9/99.8 MB 7.6 MB/s eta 0:00:06\n",
      "   ------------------------ --------------- 59.9/99.8 MB 7.6 MB/s eta 0:00:06\n",
      "   ------------------------ --------------- 60.2/99.8 MB 7.1 MB/s eta 0:00:06\n",
      "   ------------------------ --------------- 60.7/99.8 MB 7.1 MB/s eta 0:00:06\n",
      "   ------------------------ --------------- 61.0/99.8 MB 7.1 MB/s eta 0:00:06\n",
      "   ------------------------ --------------- 61.2/99.8 MB 7.0 MB/s eta 0:00:06\n",
      "   ------------------------ --------------- 61.6/99.8 MB 7.2 MB/s eta 0:00:06\n",
      "   ------------------------ --------------- 62.0/99.8 MB 7.3 MB/s eta 0:00:06\n",
      "   ------------------------ --------------- 62.3/99.8 MB 7.2 MB/s eta 0:00:06\n",
      "   ------------------------- -------------- 62.8/99.8 MB 7.2 MB/s eta 0:00:06\n",
      "   ------------------------- -------------- 63.2/99.8 MB 7.2 MB/s eta 0:00:06\n",
      "   ------------------------- -------------- 63.5/99.8 MB 7.3 MB/s eta 0:00:05\n",
      "   ------------------------- -------------- 63.9/99.8 MB 7.2 MB/s eta 0:00:05\n",
      "   ------------------------- -------------- 64.2/99.8 MB 7.4 MB/s eta 0:00:05\n",
      "   ------------------------- -------------- 64.7/99.8 MB 7.4 MB/s eta 0:00:05\n",
      "   -------------------------- ------------- 65.1/99.8 MB 7.4 MB/s eta 0:00:05\n",
      "   -------------------------- ------------- 65.7/99.8 MB 7.5 MB/s eta 0:00:05\n",
      "   -------------------------- ------------- 66.2/99.8 MB 7.8 MB/s eta 0:00:05\n",
      "   -------------------------- ------------- 66.5/99.8 MB 7.8 MB/s eta 0:00:05\n",
      "   -------------------------- ------------- 66.9/99.8 MB 7.7 MB/s eta 0:00:05\n",
      "   --------------------------- ------------ 67.4/99.8 MB 7.7 MB/s eta 0:00:05\n",
      "   --------------------------- ------------ 67.7/99.8 MB 7.7 MB/s eta 0:00:05\n",
      "   --------------------------- ------------ 68.2/99.8 MB 7.8 MB/s eta 0:00:05\n",
      "   --------------------------- ------------ 68.4/99.8 MB 7.6 MB/s eta 0:00:05\n",
      "   --------------------------- ------------ 68.9/99.8 MB 7.8 MB/s eta 0:00:04\n",
      "   --------------------------- ------------ 69.5/99.8 MB 8.0 MB/s eta 0:00:04\n",
      "   --------------------------- ------------ 69.6/99.8 MB 7.9 MB/s eta 0:00:04\n",
      "   ---------------------------- ----------- 70.1/99.8 MB 7.9 MB/s eta 0:00:04\n",
      "   ---------------------------- ----------- 70.2/99.8 MB 8.4 MB/s eta 0:00:04\n",
      "   ---------------------------- ----------- 70.2/99.8 MB 8.1 MB/s eta 0:00:04\n",
      "   ---------------------------- ----------- 70.9/99.8 MB 8.2 MB/s eta 0:00:04\n",
      "   ---------------------------- ----------- 71.4/99.8 MB 8.3 MB/s eta 0:00:04\n",
      "   ---------------------------- ----------- 71.6/99.8 MB 8.4 MB/s eta 0:00:04\n",
      "   ---------------------------- ----------- 72.0/99.8 MB 8.4 MB/s eta 0:00:04\n",
      "   ---------------------------- ----------- 72.3/99.8 MB 8.2 MB/s eta 0:00:04\n",
      "   ----------------------------- ---------- 72.4/99.8 MB 8.1 MB/s eta 0:00:04\n",
      "   ----------------------------- ---------- 72.8/99.8 MB 8.2 MB/s eta 0:00:04\n",
      "   ----------------------------- ---------- 73.1/99.8 MB 8.0 MB/s eta 0:00:04\n",
      "   ----------------------------- ---------- 73.4/99.8 MB 7.8 MB/s eta 0:00:04\n",
      "   ----------------------------- ---------- 73.6/99.8 MB 7.9 MB/s eta 0:00:04\n",
      "   ----------------------------- ---------- 73.8/99.8 MB 7.7 MB/s eta 0:00:04\n",
      "   ----------------------------- ---------- 74.1/99.8 MB 7.6 MB/s eta 0:00:04\n",
      "   ----------------------------- ---------- 74.5/99.8 MB 7.7 MB/s eta 0:00:04\n",
      "   ----------------------------- ---------- 74.8/99.8 MB 7.5 MB/s eta 0:00:04\n",
      "   ------------------------------ --------- 75.1/99.8 MB 7.5 MB/s eta 0:00:04\n",
      "   ------------------------------ --------- 75.4/99.8 MB 7.4 MB/s eta 0:00:04\n",
      "   ------------------------------ --------- 75.8/99.8 MB 7.4 MB/s eta 0:00:04\n",
      "   ------------------------------ --------- 76.2/99.8 MB 7.3 MB/s eta 0:00:04\n",
      "   ------------------------------ --------- 76.6/99.8 MB 7.2 MB/s eta 0:00:04\n",
      "   ------------------------------ --------- 77.0/99.8 MB 7.3 MB/s eta 0:00:04\n",
      "   ------------------------------ --------- 77.2/99.8 MB 7.1 MB/s eta 0:00:04\n",
      "   ------------------------------- -------- 77.3/99.8 MB 7.0 MB/s eta 0:00:04\n",
      "   ------------------------------- -------- 77.7/99.8 MB 7.0 MB/s eta 0:00:04\n",
      "   ------------------------------- -------- 78.1/99.8 MB 7.0 MB/s eta 0:00:04\n",
      "   ------------------------------- -------- 78.5/99.8 MB 7.0 MB/s eta 0:00:04\n",
      "   ------------------------------- -------- 79.0/99.8 MB 7.0 MB/s eta 0:00:03\n",
      "   ------------------------------- -------- 79.3/99.8 MB 7.0 MB/s eta 0:00:03\n",
      "   ------------------------------- -------- 79.6/99.8 MB 6.9 MB/s eta 0:00:03\n",
      "   -------------------------------- ------- 80.0/99.8 MB 7.0 MB/s eta 0:00:03\n",
      "   -------------------------------- ------- 80.4/99.8 MB 6.9 MB/s eta 0:00:03\n",
      "   -------------------------------- ------- 80.8/99.8 MB 7.3 MB/s eta 0:00:03\n",
      "   -------------------------------- ------- 81.2/99.8 MB 7.1 MB/s eta 0:00:03\n",
      "   -------------------------------- ------- 81.7/99.8 MB 7.3 MB/s eta 0:00:03\n",
      "   -------------------------------- ------- 82.2/99.8 MB 7.4 MB/s eta 0:00:03\n",
      "   --------------------------------- ------ 82.6/99.8 MB 7.7 MB/s eta 0:00:03\n",
      "   --------------------------------- ------ 83.1/99.8 MB 7.7 MB/s eta 0:00:03\n",
      "   --------------------------------- ------ 83.5/99.8 MB 7.9 MB/s eta 0:00:03\n",
      "   --------------------------------- ------ 83.9/99.8 MB 8.1 MB/s eta 0:00:02\n",
      "   --------------------------------- ------ 84.3/99.8 MB 8.0 MB/s eta 0:00:02\n",
      "   --------------------------------- ------ 84.6/99.8 MB 8.1 MB/s eta 0:00:02\n",
      "   ---------------------------------- ----- 85.1/99.8 MB 8.3 MB/s eta 0:00:02\n",
      "   ---------------------------------- ----- 85.5/99.8 MB 8.4 MB/s eta 0:00:02\n",
      "   ---------------------------------- ----- 85.9/99.8 MB 8.4 MB/s eta 0:00:02\n",
      "   ---------------------------------- ----- 86.4/99.8 MB 8.5 MB/s eta 0:00:02\n",
      "   ---------------------------------- ----- 86.8/99.8 MB 8.7 MB/s eta 0:00:02\n",
      "   ---------------------------------- ----- 87.2/99.8 MB 8.6 MB/s eta 0:00:02\n",
      "   ----------------------------------- ---- 87.7/99.8 MB 9.0 MB/s eta 0:00:02\n",
      "   ----------------------------------- ---- 88.1/99.8 MB 9.0 MB/s eta 0:00:02\n",
      "   ----------------------------------- ---- 88.4/99.8 MB 8.8 MB/s eta 0:00:02\n",
      "   ----------------------------------- ---- 88.9/99.8 MB 9.0 MB/s eta 0:00:02\n",
      "   ----------------------------------- ---- 89.2/99.8 MB 8.7 MB/s eta 0:00:02\n",
      "   ----------------------------------- ---- 89.7/99.8 MB 9.0 MB/s eta 0:00:02\n",
      "   ------------------------------------ --- 90.0/99.8 MB 9.0 MB/s eta 0:00:02\n",
      "   ------------------------------------ --- 90.0/99.8 MB 9.0 MB/s eta 0:00:02\n",
      "   ------------------------------------ --- 90.5/99.8 MB 8.8 MB/s eta 0:00:02\n",
      "   ------------------------------------ --- 90.9/99.8 MB 8.7 MB/s eta 0:00:02\n",
      "   ------------------------------------ --- 91.2/99.8 MB 8.6 MB/s eta 0:00:01\n",
      "   ------------------------------------ --- 91.4/99.8 MB 8.5 MB/s eta 0:00:01\n",
      "   ------------------------------------ --- 91.8/99.8 MB 8.4 MB/s eta 0:00:01\n",
      "   ------------------------------------ --- 91.9/99.8 MB 8.2 MB/s eta 0:00:01\n",
      "   ------------------------------------ --- 92.2/99.8 MB 8.2 MB/s eta 0:00:01\n",
      "   ------------------------------------- -- 92.3/99.8 MB 8.0 MB/s eta 0:00:01\n",
      "   ------------------------------------- -- 92.6/99.8 MB 7.8 MB/s eta 0:00:01\n",
      "   ------------------------------------- -- 92.9/99.8 MB 7.7 MB/s eta 0:00:01\n",
      "   ------------------------------------- -- 92.9/99.8 MB 7.6 MB/s eta 0:00:01\n",
      "   ------------------------------------- -- 93.3/99.8 MB 7.4 MB/s eta 0:00:01\n",
      "   ------------------------------------- -- 93.5/99.8 MB 7.3 MB/s eta 0:00:01\n",
      "   ------------------------------------- -- 93.8/99.8 MB 7.2 MB/s eta 0:00:01\n",
      "   ------------------------------------- -- 94.1/99.8 MB 7.1 MB/s eta 0:00:01\n",
      "   ------------------------------------- -- 94.3/99.8 MB 7.0 MB/s eta 0:00:01\n",
      "   ------------------------------------- -- 94.7/99.8 MB 7.0 MB/s eta 0:00:01\n",
      "   -------------------------------------- - 94.9/99.8 MB 7.0 MB/s eta 0:00:01\n",
      "   -------------------------------------- - 95.2/99.8 MB 6.9 MB/s eta 0:00:01\n",
      "   -------------------------------------- - 95.5/99.8 MB 6.9 MB/s eta 0:00:01\n",
      "   -------------------------------------- - 95.9/99.8 MB 6.8 MB/s eta 0:00:01\n",
      "   -------------------------------------- - 96.2/99.8 MB 6.7 MB/s eta 0:00:01\n",
      "   -------------------------------------- - 96.6/99.8 MB 6.7 MB/s eta 0:00:01\n",
      "   -------------------------------------- - 96.8/99.8 MB 6.7 MB/s eta 0:00:01\n",
      "   -------------------------------------- - 97.0/99.8 MB 6.5 MB/s eta 0:00:01\n",
      "   ---------------------------------------  97.3/99.8 MB 6.5 MB/s eta 0:00:01\n",
      "   ---------------------------------------  97.7/99.8 MB 6.5 MB/s eta 0:00:01\n",
      "   ---------------------------------------  97.9/99.8 MB 6.4 MB/s eta 0:00:01\n",
      "   ---------------------------------------  98.4/99.8 MB 6.4 MB/s eta 0:00:01\n",
      "   ---------------------------------------  98.7/99.8 MB 6.4 MB/s eta 0:00:01\n",
      "   ---------------------------------------  98.9/99.8 MB 6.3 MB/s eta 0:00:01\n",
      "   ---------------------------------------  99.1/99.8 MB 6.2 MB/s eta 0:00:01\n",
      "   ---------------------------------------  99.4/99.8 MB 6.2 MB/s eta 0:00:01\n",
      "   ---------------------------------------  99.6/99.8 MB 6.1 MB/s eta 0:00:01\n",
      "   ---------------------------------------  99.7/99.8 MB 6.1 MB/s eta 0:00:01\n",
      "   ---------------------------------------  99.7/99.8 MB 6.1 MB/s eta 0:00:01\n",
      "   ---------------------------------------  99.7/99.8 MB 6.1 MB/s eta 0:00:01\n",
      "   ---------------------------------------- 99.8/99.8 MB 5.6 MB/s eta 0:00:00\n",
      "Installing collected packages: xgboost\n",
      "Successfully installed xgboost-2.0.3\n"
     ]
    }
   ],
   "source": [
    "\n",
    "!pip install xgboost\n",
    "from sklearn.linear_model import LogisticRegression\n",
    "from sklearn.svm import SVC\n",
    "from sklearn.naive_bayes import MultinomialNB\n",
    "from sklearn.tree import DecisionTreeClassifier \n",
    "from sklearn.neighbors import KNeighborsClassifier \n",
    "from sklearn.ensemble import RandomForestClassifier\n",
    "from sklearn.ensemble import AdaBoostClassifier\n",
    "from sklearn.ensemble import BaggingClassifier\n",
    "from sklearn.ensemble import ExtraTreesClassifier \n",
    "from sklearn.ensemble import GradientBoostingClassifier \n",
    "from xgboost import XGBClassifier\n"
   ]
  },
  {
   "cell_type": "code",
   "execution_count": 81,
   "id": "e607e5c6-6d62-414a-bd99-71c486290749",
   "metadata": {
    "tags": []
   },
   "outputs": [],
   "source": [
    "svc=SVC (kernel='sigmoid', gamma=1.0)\n",
    "knc=KNeighborsClassifier()\n",
    "mnb= MultinomialNB()\n",
    "dtc=DecisionTreeClassifier(max_depth=5)\n",
    "lrc=LogisticRegression(solver='liblinear', penalty=\"l1\")\n",
    "bc=BaggingClassifier(n_estimators=50, random_state=2)\n",
    "\n",
    "\n",
    "rfc = RandomForestClassifier(n_estimators=50, random_state=2) \n",
    "abc = AdaBoostClassifier(n_estimators=50, random_state=2)\n",
    "\n",
    "\n",
    "etc =ExtraTreesClassifier(n_estimators=50, random_state=2)\n",
    "gbdt= GradientBoostingClassifier (n_estimators=50, random_state=2)\n",
    "xgb=XGBClassifier(n_estimators=50, random_state=2)"
   ]
  },
  {
   "cell_type": "code",
   "execution_count": 82,
   "id": "0475173a-30cd-4854-83d3-b60ec816efea",
   "metadata": {
    "tags": []
   },
   "outputs": [],
   "source": [
    "clfs = {\n",
    "'SVC': svc,\n",
    " 'KN': knc, \n",
    "'NB': mnb,\n",
    "'DT': dtc,\n",
    "'LR': lrc,\n",
    "'RF': rfc, \n",
    "'AdaBoost': abc,\n",
    "'Bgc': bc, \n",
    "'ETC': etc, \n",
    "'GBDT':gbdt,\n",
    "'xgb':xgb}\n"
   ]
  },
  {
   "cell_type": "code",
   "execution_count": 83,
   "id": "c0854da7-7682-4553-aa0d-7970baacfa4b",
   "metadata": {
    "tags": []
   },
   "outputs": [],
   "source": [
    "def train_classifier(clf,x_train,y_train,x_test,y_test):\n",
    "    clf.fit(x_train,y_train)\n",
    "    y_pred=clf.predict(x_test) \n",
    "    accuracy= accuracy_score (y_test,y_pred) \n",
    "    precision=precision_score(y_test,y_pred)\n",
    "    return accuracy, precision"
   ]
  },
  {
   "cell_type": "code",
   "execution_count": 84,
   "id": "26cf6ed9-9f4a-4dc9-862b-47000221b236",
   "metadata": {
    "tags": []
   },
   "outputs": [
    {
     "data": {
      "text/plain": [
       "(0.9758220502901354, 0.9747899159663865)"
      ]
     },
     "execution_count": 84,
     "metadata": {},
     "output_type": "execute_result"
    }
   ],
   "source": [
    "train_classifier (svc,X_train,y_train,X_test,y_test)"
   ]
  },
  {
   "cell_type": "code",
   "execution_count": 97,
   "id": "219a53e7-3c1d-4af2-b657-db360663052d",
   "metadata": {
    "tags": []
   },
   "outputs": [
    {
     "name": "stdout",
     "output_type": "stream",
     "text": [
      "For SVC\n",
      "Accuracy: 0.9758220502901354\n",
      "Precision: 0.9747899159663865\n",
      "For KN\n",
      "Accuracy: 0.9052224371373307\n",
      "Precision: 1.0\n",
      "For NB\n",
      "Accuracy: 0.9709864603481625\n",
      "Precision: 1.0\n",
      "For DT\n",
      "Accuracy: 0.9274661508704062\n",
      "Precision: 0.8118811881188119\n",
      "For LR\n",
      "Accuracy: 0.9584139264990329\n",
      "Precision: 0.9702970297029703\n",
      "For RF\n",
      "Accuracy: 0.9758220502901354\n",
      "Precision: 0.9829059829059829\n",
      "For AdaBoost\n",
      "Accuracy: 0.960348162475822\n",
      "Precision: 0.9292035398230089\n",
      "For Bgc\n",
      "Accuracy: 0.9584139264990329\n",
      "Precision: 0.8682170542635659\n",
      "For ETC\n",
      "Accuracy: 0.9748549323017408\n",
      "Precision: 0.9745762711864406\n",
      "For GBDT\n",
      "Accuracy: 0.9468085106382979\n",
      "Precision: 0.9191919191919192\n",
      "For xgb\n",
      "Accuracy: 0.9671179883945842\n",
      "Precision: 0.9262295081967213\n"
     ]
    }
   ],
   "source": [
    "accuracy_scores = []\n",
    "precision_scores = []\n",
    "\n",
    "for name, clf in clfs.items():\n",
    "    current_accuracy, current_precision = train_classifier(clf, X_train, y_train, X_test, y_test)\n",
    "    print(\"For\", name)\n",
    "    print(\"Accuracy:\", current_accuracy)\n",
    "    print(\"Precision:\", current_precision)\n",
    "    accuracy_scores.append(current_accuracy)\n",
    "    precision_scores.append(current_precision)\n"
   ]
  },
  {
   "cell_type": "code",
   "execution_count": 98,
   "id": "cf5602af-bf47-491d-a077-8080306e846b",
   "metadata": {
    "tags": []
   },
   "outputs": [],
   "source": [
    "performance_df = pd.DataFrame({'Algorithm':clfs.keys(), 'Accuracy': accuracy_scores, 'Precision': precision_scores}).sort_values('Precision',ascending=False)"
   ]
  },
  {
   "cell_type": "code",
   "execution_count": 99,
   "id": "6fac0e73-11fe-444b-9fbf-c8fdc8efb613",
   "metadata": {
    "tags": []
   },
   "outputs": [
    {
     "data": {
      "text/html": [
       "<div>\n",
       "<style scoped>\n",
       "    .dataframe tbody tr th:only-of-type {\n",
       "        vertical-align: middle;\n",
       "    }\n",
       "\n",
       "    .dataframe tbody tr th {\n",
       "        vertical-align: top;\n",
       "    }\n",
       "\n",
       "    .dataframe thead th {\n",
       "        text-align: right;\n",
       "    }\n",
       "</style>\n",
       "<table border=\"1\" class=\"dataframe\">\n",
       "  <thead>\n",
       "    <tr style=\"text-align: right;\">\n",
       "      <th></th>\n",
       "      <th>Algorithm</th>\n",
       "      <th>Accuracy</th>\n",
       "      <th>Precision</th>\n",
       "    </tr>\n",
       "  </thead>\n",
       "  <tbody>\n",
       "    <tr>\n",
       "      <th>1</th>\n",
       "      <td>KN</td>\n",
       "      <td>0.905222</td>\n",
       "      <td>1.000000</td>\n",
       "    </tr>\n",
       "    <tr>\n",
       "      <th>2</th>\n",
       "      <td>NB</td>\n",
       "      <td>0.970986</td>\n",
       "      <td>1.000000</td>\n",
       "    </tr>\n",
       "    <tr>\n",
       "      <th>5</th>\n",
       "      <td>RF</td>\n",
       "      <td>0.975822</td>\n",
       "      <td>0.982906</td>\n",
       "    </tr>\n",
       "    <tr>\n",
       "      <th>0</th>\n",
       "      <td>SVC</td>\n",
       "      <td>0.975822</td>\n",
       "      <td>0.974790</td>\n",
       "    </tr>\n",
       "    <tr>\n",
       "      <th>8</th>\n",
       "      <td>ETC</td>\n",
       "      <td>0.974855</td>\n",
       "      <td>0.974576</td>\n",
       "    </tr>\n",
       "    <tr>\n",
       "      <th>4</th>\n",
       "      <td>LR</td>\n",
       "      <td>0.958414</td>\n",
       "      <td>0.970297</td>\n",
       "    </tr>\n",
       "    <tr>\n",
       "      <th>6</th>\n",
       "      <td>AdaBoost</td>\n",
       "      <td>0.960348</td>\n",
       "      <td>0.929204</td>\n",
       "    </tr>\n",
       "    <tr>\n",
       "      <th>10</th>\n",
       "      <td>xgb</td>\n",
       "      <td>0.967118</td>\n",
       "      <td>0.926230</td>\n",
       "    </tr>\n",
       "    <tr>\n",
       "      <th>9</th>\n",
       "      <td>GBDT</td>\n",
       "      <td>0.946809</td>\n",
       "      <td>0.919192</td>\n",
       "    </tr>\n",
       "    <tr>\n",
       "      <th>7</th>\n",
       "      <td>Bgc</td>\n",
       "      <td>0.958414</td>\n",
       "      <td>0.868217</td>\n",
       "    </tr>\n",
       "    <tr>\n",
       "      <th>3</th>\n",
       "      <td>DT</td>\n",
       "      <td>0.927466</td>\n",
       "      <td>0.811881</td>\n",
       "    </tr>\n",
       "  </tbody>\n",
       "</table>\n",
       "</div>"
      ],
      "text/plain": [
       "   Algorithm  Accuracy  Precision\n",
       "1         KN  0.905222   1.000000\n",
       "2         NB  0.970986   1.000000\n",
       "5         RF  0.975822   0.982906\n",
       "0        SVC  0.975822   0.974790\n",
       "8        ETC  0.974855   0.974576\n",
       "4         LR  0.958414   0.970297\n",
       "6   AdaBoost  0.960348   0.929204\n",
       "10       xgb  0.967118   0.926230\n",
       "9       GBDT  0.946809   0.919192\n",
       "7        Bgc  0.958414   0.868217\n",
       "3         DT  0.927466   0.811881"
      ]
     },
     "execution_count": 99,
     "metadata": {},
     "output_type": "execute_result"
    }
   ],
   "source": [
    "performance_df"
   ]
  },
  {
   "cell_type": "code",
   "execution_count": 100,
   "id": "025c7d48-6a56-4ac6-b672-f9cfad328e7f",
   "metadata": {
    "tags": []
   },
   "outputs": [],
   "source": [
    "performance_df1 = pd.melt (performance_df, id_vars= \"Algorithm\")"
   ]
  },
  {
   "cell_type": "code",
   "execution_count": 101,
   "id": "8e6b9003-1acb-429e-996b-6d654cf442ac",
   "metadata": {
    "tags": []
   },
   "outputs": [
    {
     "data": {
      "text/html": [
       "<div>\n",
       "<style scoped>\n",
       "    .dataframe tbody tr th:only-of-type {\n",
       "        vertical-align: middle;\n",
       "    }\n",
       "\n",
       "    .dataframe tbody tr th {\n",
       "        vertical-align: top;\n",
       "    }\n",
       "\n",
       "    .dataframe thead th {\n",
       "        text-align: right;\n",
       "    }\n",
       "</style>\n",
       "<table border=\"1\" class=\"dataframe\">\n",
       "  <thead>\n",
       "    <tr style=\"text-align: right;\">\n",
       "      <th></th>\n",
       "      <th>Algorithm</th>\n",
       "      <th>variable</th>\n",
       "      <th>value</th>\n",
       "    </tr>\n",
       "  </thead>\n",
       "  <tbody>\n",
       "    <tr>\n",
       "      <th>0</th>\n",
       "      <td>KN</td>\n",
       "      <td>Accuracy</td>\n",
       "      <td>0.905222</td>\n",
       "    </tr>\n",
       "    <tr>\n",
       "      <th>1</th>\n",
       "      <td>NB</td>\n",
       "      <td>Accuracy</td>\n",
       "      <td>0.970986</td>\n",
       "    </tr>\n",
       "    <tr>\n",
       "      <th>2</th>\n",
       "      <td>RF</td>\n",
       "      <td>Accuracy</td>\n",
       "      <td>0.975822</td>\n",
       "    </tr>\n",
       "    <tr>\n",
       "      <th>3</th>\n",
       "      <td>SVC</td>\n",
       "      <td>Accuracy</td>\n",
       "      <td>0.975822</td>\n",
       "    </tr>\n",
       "    <tr>\n",
       "      <th>4</th>\n",
       "      <td>ETC</td>\n",
       "      <td>Accuracy</td>\n",
       "      <td>0.974855</td>\n",
       "    </tr>\n",
       "    <tr>\n",
       "      <th>5</th>\n",
       "      <td>LR</td>\n",
       "      <td>Accuracy</td>\n",
       "      <td>0.958414</td>\n",
       "    </tr>\n",
       "    <tr>\n",
       "      <th>6</th>\n",
       "      <td>AdaBoost</td>\n",
       "      <td>Accuracy</td>\n",
       "      <td>0.960348</td>\n",
       "    </tr>\n",
       "    <tr>\n",
       "      <th>7</th>\n",
       "      <td>xgb</td>\n",
       "      <td>Accuracy</td>\n",
       "      <td>0.967118</td>\n",
       "    </tr>\n",
       "    <tr>\n",
       "      <th>8</th>\n",
       "      <td>GBDT</td>\n",
       "      <td>Accuracy</td>\n",
       "      <td>0.946809</td>\n",
       "    </tr>\n",
       "    <tr>\n",
       "      <th>9</th>\n",
       "      <td>Bgc</td>\n",
       "      <td>Accuracy</td>\n",
       "      <td>0.958414</td>\n",
       "    </tr>\n",
       "    <tr>\n",
       "      <th>10</th>\n",
       "      <td>DT</td>\n",
       "      <td>Accuracy</td>\n",
       "      <td>0.927466</td>\n",
       "    </tr>\n",
       "    <tr>\n",
       "      <th>11</th>\n",
       "      <td>KN</td>\n",
       "      <td>Precision</td>\n",
       "      <td>1.000000</td>\n",
       "    </tr>\n",
       "    <tr>\n",
       "      <th>12</th>\n",
       "      <td>NB</td>\n",
       "      <td>Precision</td>\n",
       "      <td>1.000000</td>\n",
       "    </tr>\n",
       "    <tr>\n",
       "      <th>13</th>\n",
       "      <td>RF</td>\n",
       "      <td>Precision</td>\n",
       "      <td>0.982906</td>\n",
       "    </tr>\n",
       "    <tr>\n",
       "      <th>14</th>\n",
       "      <td>SVC</td>\n",
       "      <td>Precision</td>\n",
       "      <td>0.974790</td>\n",
       "    </tr>\n",
       "    <tr>\n",
       "      <th>15</th>\n",
       "      <td>ETC</td>\n",
       "      <td>Precision</td>\n",
       "      <td>0.974576</td>\n",
       "    </tr>\n",
       "    <tr>\n",
       "      <th>16</th>\n",
       "      <td>LR</td>\n",
       "      <td>Precision</td>\n",
       "      <td>0.970297</td>\n",
       "    </tr>\n",
       "    <tr>\n",
       "      <th>17</th>\n",
       "      <td>AdaBoost</td>\n",
       "      <td>Precision</td>\n",
       "      <td>0.929204</td>\n",
       "    </tr>\n",
       "    <tr>\n",
       "      <th>18</th>\n",
       "      <td>xgb</td>\n",
       "      <td>Precision</td>\n",
       "      <td>0.926230</td>\n",
       "    </tr>\n",
       "    <tr>\n",
       "      <th>19</th>\n",
       "      <td>GBDT</td>\n",
       "      <td>Precision</td>\n",
       "      <td>0.919192</td>\n",
       "    </tr>\n",
       "    <tr>\n",
       "      <th>20</th>\n",
       "      <td>Bgc</td>\n",
       "      <td>Precision</td>\n",
       "      <td>0.868217</td>\n",
       "    </tr>\n",
       "    <tr>\n",
       "      <th>21</th>\n",
       "      <td>DT</td>\n",
       "      <td>Precision</td>\n",
       "      <td>0.811881</td>\n",
       "    </tr>\n",
       "  </tbody>\n",
       "</table>\n",
       "</div>"
      ],
      "text/plain": [
       "   Algorithm   variable     value\n",
       "0         KN   Accuracy  0.905222\n",
       "1         NB   Accuracy  0.970986\n",
       "2         RF   Accuracy  0.975822\n",
       "3        SVC   Accuracy  0.975822\n",
       "4        ETC   Accuracy  0.974855\n",
       "5         LR   Accuracy  0.958414\n",
       "6   AdaBoost   Accuracy  0.960348\n",
       "7        xgb   Accuracy  0.967118\n",
       "8       GBDT   Accuracy  0.946809\n",
       "9        Bgc   Accuracy  0.958414\n",
       "10        DT   Accuracy  0.927466\n",
       "11        KN  Precision  1.000000\n",
       "12        NB  Precision  1.000000\n",
       "13        RF  Precision  0.982906\n",
       "14       SVC  Precision  0.974790\n",
       "15       ETC  Precision  0.974576\n",
       "16        LR  Precision  0.970297\n",
       "17  AdaBoost  Precision  0.929204\n",
       "18       xgb  Precision  0.926230\n",
       "19      GBDT  Precision  0.919192\n",
       "20       Bgc  Precision  0.868217\n",
       "21        DT  Precision  0.811881"
      ]
     },
     "execution_count": 101,
     "metadata": {},
     "output_type": "execute_result"
    }
   ],
   "source": [
    "performance_df1"
   ]
  },
  {
   "cell_type": "code",
   "execution_count": 102,
   "id": "3ec9b009-6695-402d-b5b1-c6472db4a624",
   "metadata": {
    "tags": []
   },
   "outputs": [
    {
     "data": {
      "image/png": "[encoded data removed]",
      "text/plain": [
       "<Figure size 613.5x500 with 1 Axes>"
      ]
     },
     "metadata": {},
     "output_type": "display_data"
    }
   ],
   "source": [
    "sns.catplot(x= 'Algorithm', y='value', hue='variable',data=performance_df1, kind='bar',height=5)\n",
    "plt.ylim(0.5,1.0)\n",
    "plt.xticks(rotation=\"vertical\")\n",
    "plt.show()"
   ]
  },
  {
   "cell_type": "code",
   "execution_count": 103,
   "id": "7a3c5e3e-f701-438b-914f-45d6d34bf88e",
   "metadata": {
    "tags": []
   },
   "outputs": [],
   "source": [
    "temp_df = pd.DataFrame({'Algorithm':clfs.keys(),'Accuracy_max_ft_3000': accuracy_scores, 'Precision_max_ft_3000' :precision_scores}).sort_values('Precision_max_ft_3000')\n",
    "new_df = performance_df.merge(temp_df,on='Algorithm')\n",
    "new_df_scaled = new_df.merge(temp_df,on='Algorithm')"
   ]
  },
  {
   "cell_type": "code",
   "execution_count": 104,
   "id": "4a9c03ed-c6d2-454e-9874-c10082b6d9d9",
   "metadata": {
    "tags": []
   },
   "outputs": [],
   "source": [
    "temp_df = pd.DataFrame({'Algorithm':clfs.keys(), 'Accuracy_num_chars': accuracy_scores, 'Precision_num_chars':precision_scores}).sort_values('Precision_num_chars')"
   ]
  },
  {
   "cell_type": "code",
   "execution_count": 105,
   "id": "a372c72c-00a9-4fd2-92e4-ce65978a5811",
   "metadata": {
    "tags": []
   },
   "outputs": [
    {
     "data": {
      "text/html": [
       "<div>\n",
       "<style scoped>\n",
       "    .dataframe tbody tr th:only-of-type {\n",
       "        vertical-align: middle;\n",
       "    }\n",
       "\n",
       "    .dataframe tbody tr th {\n",
       "        vertical-align: top;\n",
       "    }\n",
       "\n",
       "    .dataframe thead th {\n",
       "        text-align: right;\n",
       "    }\n",
       "</style>\n",
       "<table border=\"1\" class=\"dataframe\">\n",
       "  <thead>\n",
       "    <tr style=\"text-align: right;\">\n",
       "      <th></th>\n",
       "      <th>Algorithm</th>\n",
       "      <th>Accuracy</th>\n",
       "      <th>Precision</th>\n",
       "      <th>Accuracy_max_ft_3000_x</th>\n",
       "      <th>Precision_max_ft_3000_x</th>\n",
       "      <th>Accuracy_max_ft_3000_y</th>\n",
       "      <th>Precision_max_ft_3000_y</th>\n",
       "      <th>Accuracy_num_chars</th>\n",
       "      <th>Precision_num_chars</th>\n",
       "    </tr>\n",
       "  </thead>\n",
       "  <tbody>\n",
       "    <tr>\n",
       "      <th>0</th>\n",
       "      <td>KN</td>\n",
       "      <td>0.905222</td>\n",
       "      <td>1.000000</td>\n",
       "      <td>0.905222</td>\n",
       "      <td>1.000000</td>\n",
       "      <td>0.905222</td>\n",
       "      <td>1.000000</td>\n",
       "      <td>0.905222</td>\n",
       "      <td>1.000000</td>\n",
       "    </tr>\n",
       "    <tr>\n",
       "      <th>1</th>\n",
       "      <td>NB</td>\n",
       "      <td>0.970986</td>\n",
       "      <td>1.000000</td>\n",
       "      <td>0.970986</td>\n",
       "      <td>1.000000</td>\n",
       "      <td>0.970986</td>\n",
       "      <td>1.000000</td>\n",
       "      <td>0.970986</td>\n",
       "      <td>1.000000</td>\n",
       "    </tr>\n",
       "    <tr>\n",
       "      <th>2</th>\n",
       "      <td>RF</td>\n",
       "      <td>0.975822</td>\n",
       "      <td>0.982906</td>\n",
       "      <td>0.975822</td>\n",
       "      <td>0.982906</td>\n",
       "      <td>0.975822</td>\n",
       "      <td>0.982906</td>\n",
       "      <td>0.975822</td>\n",
       "      <td>0.982906</td>\n",
       "    </tr>\n",
       "    <tr>\n",
       "      <th>3</th>\n",
       "      <td>SVC</td>\n",
       "      <td>0.975822</td>\n",
       "      <td>0.974790</td>\n",
       "      <td>0.975822</td>\n",
       "      <td>0.974790</td>\n",
       "      <td>0.975822</td>\n",
       "      <td>0.974790</td>\n",
       "      <td>0.975822</td>\n",
       "      <td>0.974790</td>\n",
       "    </tr>\n",
       "    <tr>\n",
       "      <th>4</th>\n",
       "      <td>ETC</td>\n",
       "      <td>0.974855</td>\n",
       "      <td>0.974576</td>\n",
       "      <td>0.974855</td>\n",
       "      <td>0.974576</td>\n",
       "      <td>0.974855</td>\n",
       "      <td>0.974576</td>\n",
       "      <td>0.974855</td>\n",
       "      <td>0.974576</td>\n",
       "    </tr>\n",
       "    <tr>\n",
       "      <th>5</th>\n",
       "      <td>LR</td>\n",
       "      <td>0.958414</td>\n",
       "      <td>0.970297</td>\n",
       "      <td>0.958414</td>\n",
       "      <td>0.970297</td>\n",
       "      <td>0.958414</td>\n",
       "      <td>0.970297</td>\n",
       "      <td>0.958414</td>\n",
       "      <td>0.970297</td>\n",
       "    </tr>\n",
       "    <tr>\n",
       "      <th>6</th>\n",
       "      <td>AdaBoost</td>\n",
       "      <td>0.960348</td>\n",
       "      <td>0.929204</td>\n",
       "      <td>0.960348</td>\n",
       "      <td>0.929204</td>\n",
       "      <td>0.960348</td>\n",
       "      <td>0.929204</td>\n",
       "      <td>0.960348</td>\n",
       "      <td>0.929204</td>\n",
       "    </tr>\n",
       "    <tr>\n",
       "      <th>7</th>\n",
       "      <td>xgb</td>\n",
       "      <td>0.967118</td>\n",
       "      <td>0.926230</td>\n",
       "      <td>0.967118</td>\n",
       "      <td>0.926230</td>\n",
       "      <td>0.967118</td>\n",
       "      <td>0.926230</td>\n",
       "      <td>0.967118</td>\n",
       "      <td>0.926230</td>\n",
       "    </tr>\n",
       "    <tr>\n",
       "      <th>8</th>\n",
       "      <td>GBDT</td>\n",
       "      <td>0.946809</td>\n",
       "      <td>0.919192</td>\n",
       "      <td>0.946809</td>\n",
       "      <td>0.919192</td>\n",
       "      <td>0.946809</td>\n",
       "      <td>0.919192</td>\n",
       "      <td>0.946809</td>\n",
       "      <td>0.919192</td>\n",
       "    </tr>\n",
       "    <tr>\n",
       "      <th>9</th>\n",
       "      <td>Bgc</td>\n",
       "      <td>0.958414</td>\n",
       "      <td>0.868217</td>\n",
       "      <td>0.958414</td>\n",
       "      <td>0.868217</td>\n",
       "      <td>0.958414</td>\n",
       "      <td>0.868217</td>\n",
       "      <td>0.958414</td>\n",
       "      <td>0.868217</td>\n",
       "    </tr>\n",
       "    <tr>\n",
       "      <th>10</th>\n",
       "      <td>DT</td>\n",
       "      <td>0.927466</td>\n",
       "      <td>0.811881</td>\n",
       "      <td>0.927466</td>\n",
       "      <td>0.811881</td>\n",
       "      <td>0.927466</td>\n",
       "      <td>0.811881</td>\n",
       "      <td>0.927466</td>\n",
       "      <td>0.811881</td>\n",
       "    </tr>\n",
       "  </tbody>\n",
       "</table>\n",
       "</div>"
      ],
      "text/plain": [
       "   Algorithm  Accuracy  Precision  Accuracy_max_ft_3000_x  \\\n",
       "0         KN  0.905222   1.000000                0.905222   \n",
       "1         NB  0.970986   1.000000                0.970986   \n",
       "2         RF  0.975822   0.982906                0.975822   \n",
       "3        SVC  0.975822   0.974790                0.975822   \n",
       "4        ETC  0.974855   0.974576                0.974855   \n",
       "5         LR  0.958414   0.970297                0.958414   \n",
       "6   AdaBoost  0.960348   0.929204                0.960348   \n",
       "7        xgb  0.967118   0.926230                0.967118   \n",
       "8       GBDT  0.946809   0.919192                0.946809   \n",
       "9        Bgc  0.958414   0.868217                0.958414   \n",
       "10        DT  0.927466   0.811881                0.927466   \n",
       "\n",
       "    Precision_max_ft_3000_x  Accuracy_max_ft_3000_y  Precision_max_ft_3000_y  \\\n",
       "0                  1.000000                0.905222                 1.000000   \n",
       "1                  1.000000                0.970986                 1.000000   \n",
       "2                  0.982906                0.975822                 0.982906   \n",
       "3                  0.974790                0.975822                 0.974790   \n",
       "4                  0.974576                0.974855                 0.974576   \n",
       "5                  0.970297                0.958414                 0.970297   \n",
       "6                  0.929204                0.960348                 0.929204   \n",
       "7                  0.926230                0.967118                 0.926230   \n",
       "8                  0.919192                0.946809                 0.919192   \n",
       "9                  0.868217                0.958414                 0.868217   \n",
       "10                 0.811881                0.927466                 0.811881   \n",
       "\n",
       "    Accuracy_num_chars  Precision_num_chars  \n",
       "0             0.905222             1.000000  \n",
       "1             0.970986             1.000000  \n",
       "2             0.975822             0.982906  \n",
       "3             0.975822             0.974790  \n",
       "4             0.974855             0.974576  \n",
       "5             0.958414             0.970297  \n",
       "6             0.960348             0.929204  \n",
       "7             0.967118             0.926230  \n",
       "8             0.946809             0.919192  \n",
       "9             0.958414             0.868217  \n",
       "10            0.927466             0.811881  "
      ]
     },
     "execution_count": 105,
     "metadata": {},
     "output_type": "execute_result"
    }
   ],
   "source": [
    "new_df_scaled.merge(temp_df,on='Algorithm')"
   ]
  },
  {
   "cell_type": "code",
   "execution_count": 106,
   "id": "cb4f3b03-eec2-4b6c-a5de-a038d1c8219b",
   "metadata": {
    "tags": []
   },
   "outputs": [
    {
     "data": {
      "text/html": [
       "<style>#sk-container-id-1 {color: black;background-color: white;}#sk-container-id-1 pre{padding: 0;}#sk-container-id-1 div.sk-toggleable {background-color: white;}#sk-container-id-1 label.sk-toggleable__label {cursor: pointer;display: block;width: 100%;margin-bottom: 0;padding: 0.3em;box-sizing: border-box;text-align: center;}#sk-container-id-1 label.sk-toggleable__label-arrow:before {content: \"▸\";float: left;margin-right: 0.25em;color: #696969;}#sk-container-id-1 label.sk-toggleable__label-arrow:hover:before {color: black;}#sk-container-id-1 div.sk-estimator:hover label.sk-toggleable__label-arrow:before {color: black;}#sk-container-id-1 div.sk-toggleable__content {max-height: 0;max-width: 0;overflow: hidden;text-align: left;background-color: #f0f8ff;}#sk-container-id-1 div.sk-toggleable__content pre {margin: 0.2em;color: black;border-radius: 0.25em;background-color: #f0f8ff;}#sk-container-id-1 input.sk-toggleable__control:checked~div.sk-toggleable__content {max-height: 200px;max-width: 100%;overflow: auto;}#sk-container-id-1 input.sk-toggleable__control:checked~label.sk-toggleable__label-arrow:before {content: \"▾\";}#sk-container-id-1 div.sk-estimator input.sk-toggleable__control:checked~label.sk-toggleable__label {background-color: #d4ebff;}#sk-container-id-1 div.sk-label input.sk-toggleable__control:checked~label.sk-toggleable__label {background-color: #d4ebff;}#sk-container-id-1 input.sk-hidden--visually {border: 0;clip: rect(1px 1px 1px 1px);clip: rect(1px, 1px, 1px, 1px);height: 1px;margin: -1px;overflow: hidden;padding: 0;position: absolute;width: 1px;}#sk-container-id-1 div.sk-estimator {font-family: monospace;background-color: #f0f8ff;border: 1px dotted black;border-radius: 0.25em;box-sizing: border-box;margin-bottom: 0.5em;}#sk-container-id-1 div.sk-estimator:hover {background-color: #d4ebff;}#sk-container-id-1 div.sk-parallel-item::after {content: \"\";width: 100%;border-bottom: 1px solid gray;flex-grow: 1;}#sk-container-id-1 div.sk-label:hover label.sk-toggleable__label {background-color: #d4ebff;}#sk-container-id-1 div.sk-serial::before {content: \"\";position: absolute;border-left: 1px solid gray;box-sizing: border-box;top: 0;bottom: 0;left: 50%;z-index: 0;}#sk-container-id-1 div.sk-serial {display: flex;flex-direction: column;align-items: center;background-color: white;padding-right: 0.2em;padding-left: 0.2em;position: relative;}#sk-container-id-1 div.sk-item {position: relative;z-index: 1;}#sk-container-id-1 div.sk-parallel {display: flex;align-items: stretch;justify-content: center;background-color: white;position: relative;}#sk-container-id-1 div.sk-item::before, #sk-container-id-1 div.sk-parallel-item::before {content: \"\";position: absolute;border-left: 1px solid gray;box-sizing: border-box;top: 0;bottom: 0;left: 50%;z-index: -1;}#sk-container-id-1 div.sk-parallel-item {display: flex;flex-direction: column;z-index: 1;position: relative;background-color: white;}#sk-container-id-1 div.sk-parallel-item:first-child::after {align-self: flex-end;width: 50%;}#sk-container-id-1 div.sk-parallel-item:last-child::after {align-self: flex-start;width: 50%;}#sk-container-id-1 div.sk-parallel-item:only-child::after {width: 0;}#sk-container-id-1 div.sk-dashed-wrapped {border: 1px dashed gray;margin: 0 0.4em 0.5em 0.4em;box-sizing: border-box;padding-bottom: 0.4em;background-color: white;}#sk-container-id-1 div.sk-label label {font-family: monospace;font-weight: bold;display: inline-block;line-height: 1.2em;}#sk-container-id-1 div.sk-label-container {text-align: center;}#sk-container-id-1 div.sk-container {/* jupyter's `normalize.less` sets `[hidden] { display: none; }` but bootstrap.min.css set `[hidden] { display: none !important; }` so we also need the `!important` here to be able to override the default hidden behavior on the sphinx rendered scikit-learn.org. See: https://github.com/scikit-learn/scikit-learn/issues/21755 */display: inline-block !important;position: relative;}#sk-container-id-1 div.sk-text-repr-fallback {display: none;}</style><div id=\"sk-container-id-1\" class=\"sk-top-container\"><div class=\"sk-text-repr-fallback\"><pre>VotingClassifier(estimators=[(&#x27;svm&#x27;, SVC(gamma=1.0, kernel=&#x27;sigmoid&#x27;)),\n",
       "                             (&#x27;nb&#x27;, MultinomialNB()),\n",
       "                             (&#x27;et&#x27;,\n",
       "                              ExtraTreesClassifier(n_estimators=50,\n",
       "                                                   random_state=2))])</pre><b>In a Jupyter environment, please rerun this cell to show the HTML representation or trust the notebook. <br />On GitHub, the HTML representation is unable to render, please try loading this page with nbviewer.org.</b></div><div class=\"sk-container\" hidden><div class=\"sk-item sk-dashed-wrapped\"><div class=\"sk-label-container\"><div class=\"sk-label sk-toggleable\"><input class=\"sk-toggleable__control sk-hidden--visually\" id=\"sk-estimator-id-1\" type=\"checkbox\" ><label for=\"sk-estimator-id-1\" class=\"sk-toggleable__label sk-toggleable__label-arrow\">VotingClassifier</label><div class=\"sk-toggleable__content\"><pre>VotingClassifier(estimators=[(&#x27;svm&#x27;, SVC(gamma=1.0, kernel=&#x27;sigmoid&#x27;)),\n",
       "                             (&#x27;nb&#x27;, MultinomialNB()),\n",
       "                             (&#x27;et&#x27;,\n",
       "                              ExtraTreesClassifier(n_estimators=50,\n",
       "                                                   random_state=2))])</pre></div></div></div><div class=\"sk-parallel\"><div class=\"sk-parallel-item\"><div class=\"sk-item\"><div class=\"sk-label-container\"><div class=\"sk-label sk-toggleable\"><label>svm</label></div></div><div class=\"sk-serial\"><div class=\"sk-item\"><div class=\"sk-estimator sk-toggleable\"><input class=\"sk-toggleable__control sk-hidden--visually\" id=\"sk-estimator-id-2\" type=\"checkbox\" ><label for=\"sk-estimator-id-2\" class=\"sk-toggleable__label sk-toggleable__label-arrow\">SVC</label><div class=\"sk-toggleable__content\"><pre>SVC(gamma=1.0, kernel=&#x27;sigmoid&#x27;)</pre></div></div></div></div></div></div><div class=\"sk-parallel-item\"><div class=\"sk-item\"><div class=\"sk-label-container\"><div class=\"sk-label sk-toggleable\"><label>nb</label></div></div><div class=\"sk-serial\"><div class=\"sk-item\"><div class=\"sk-estimator sk-toggleable\"><input class=\"sk-toggleable__control sk-hidden--visually\" id=\"sk-estimator-id-3\" type=\"checkbox\" ><label for=\"sk-estimator-id-3\" class=\"sk-toggleable__label sk-toggleable__label-arrow\">MultinomialNB</label><div class=\"sk-toggleable__content\"><pre>MultinomialNB()</pre></div></div></div></div></div></div><div class=\"sk-parallel-item\"><div class=\"sk-item\"><div class=\"sk-label-container\"><div class=\"sk-label sk-toggleable\"><label>et</label></div></div><div class=\"sk-serial\"><div class=\"sk-item\"><div class=\"sk-estimator sk-toggleable\"><input class=\"sk-toggleable__control sk-hidden--visually\" id=\"sk-estimator-id-4\" type=\"checkbox\" ><label for=\"sk-estimator-id-4\" class=\"sk-toggleable__label sk-toggleable__label-arrow\">ExtraTreesClassifier</label><div class=\"sk-toggleable__content\"><pre>ExtraTreesClassifier(n_estimators=50, random_state=2)</pre></div></div></div></div></div></div></div></div></div></div>"
      ],
      "text/plain": [
       "VotingClassifier(estimators=[('svm', SVC(gamma=1.0, kernel='sigmoid')),\n",
       "                             ('nb', MultinomialNB()),\n",
       "                             ('et',\n",
       "                              ExtraTreesClassifier(n_estimators=50,\n",
       "                                                   random_state=2))])"
      ]
     },
     "execution_count": 106,
     "metadata": {},
     "output_type": "execute_result"
    }
   ],
   "source": [
    "Svc=SVC (kernel='sigmoid', gamma=1.0, probability=True)\n",
    "mnb= MultinomialNB()\n",
    "mnb.fit(X_train, y_train)\n",
    "etc = ExtraTreesClassifier(n_estimators=50, random_state=2)\n",
    "from sklearn.ensemble import VotingClassifier\n",
    "voting=VotingClassifier (estimators=[('svm', svc), ('nb', mnb), ('et', etc)], voting='hard')\n",
    "voting.fit(X_train,y_train)"
   ]
  },
  {
   "cell_type": "code",
   "execution_count": 109,
   "id": "f7d00deb-90a3-4aca-845f-73f7bc0c7576",
   "metadata": {
    "tags": []
   },
   "outputs": [
    {
     "name": "stdout",
     "output_type": "stream",
     "text": [
      "Accuracy 0.9787234042553191\n",
      "Precision 1.0\n"
     ]
    }
   ],
   "source": [
    "y_pred=voting.predict(X_test)\n",
    "print(\"Accuracy\", accuracy_score(y_test,y_pred))\n",
    "print(\"Precision\", precision_score(y_test,y_pred))"
   ]
  },
  {
   "cell_type": "code",
   "execution_count": 110,
   "id": "44f25087-a2d0-42be-8d83-aec6f4521174",
   "metadata": {
    "tags": []
   },
   "outputs": [
    {
     "name": "stdout",
     "output_type": "stream",
     "text": [
      "Accuracy 0.9787234042553191\n",
      "Precision 0.9393939393939394\n"
     ]
    }
   ],
   "source": [
    "from sklearn.ensemble import StackingClassifier\n",
    "estimators=[('svm', svc), ('nb', mnb), ('et', etc)] \n",
    "final_estimator=RandomForestClassifier()\n",
    "\n",
    "clf=StackingClassifier (estimators=estimators, final_estimator=final_estimator)\n",
    "clf.fit(X_train,y_train) \n",
    "y_pred=clf.predict(X_test)\n",
    "print(\"Accuracy\",accuracy_score(y_test,y_pred))\n",
    "print(\"Precision\", precision_score (y_test,y_pred))\n",
    "\n",
    "import pickle\n",
    "pickle.dump(tfidf,open('vectorizer.pkl', 'wb')) \n",
    "pickle.dump(mnb, open('model.pkl', 'wb'))\n"
   ]
  },
  {
   "cell_type": "code",
   "execution_count": 111,
   "id": "9f70528b-a406-4bba-8731-dd01571ee4ee",
   "metadata": {},
   "outputs": [
    {
     "ename": "SyntaxError",
     "evalue": "invalid syntax (3792306656.py, line 10)",
     "output_type": "error",
     "traceback": [
      "\u001b[1;36m  Cell \u001b[1;32mIn[111], line 10\u001b[1;36m\u001b[0m\n\u001b[1;33m    tfidf TfidfVectorizer (lowercase=True, stop_words='english')\u001b[0m\n\u001b[1;37m          ^\u001b[0m\n\u001b[1;31mSyntaxError\u001b[0m\u001b[1;31m:\u001b[0m invalid syntax\n"
     ]
    }
   ],
   "source": [
    "import pickle\n",
    "from sklearn.feature_extraction.text import TfidfVectorizer \n",
    "from sklearn.naive_bayes import MultinomialNB\n",
    "\n",
    "# Sample text data and corresponding Labels (replace with your actual data) \n",
    "X_train = [\"Sample text 1\", \"Sample text 2\", \"Sample text 3\"] \n",
    "y_train = [0, 1, 0] # Example Labels (0 for negative, 1 for positive)\n",
    "\n",
    "# Create and train the TF-IDF vectorizer\n",
    "tfidf TfidfVectorizer (lowercase=True, stop_words='english') \n",
    "X_train_tfidf = tfidf.fit_transform(X_train)\n",
    "\n",
    "# Create and train the Naive Bayes classifier\n",
    "mnb = MultinomialNB() \n",
    "mnb.fit(X_train_tfidf, y_train)\n",
    "\n",
    "# Save the trained TF-IDF vectorizer and Naive Bayes model to files with open('vectorizer.pkl', 'wb') as vectorizer_file: pickle.dump(tfidf, vectorizer_file)\n",
    "with open('model.pkl', 'wb') as model_file: pickle.dump(mnb, model_file)\n",
    "    pickle.dump(tfidf, vectorizer_file)\n",
    "with open('model.pkl', 'wb') as model_file: pickle.dump(mnb, model_file)\\\n",
    "    picke.dump(mnb,model_file)"
   ]
  },
  {
   "cell_type": "code",
   "execution_count": null,
   "id": "305e917f-0db5-4c0c-9003-8adf961ed3cb",
   "metadata": {},
   "outputs": [],
   "source": []
  }
 ],
 "metadata": {
  "kernelspec": {
   "display_name": "Python 3 (ipykernel)",
   "language": "python",
   "name": "python3"
  },
  "language_info": {
   "codemirror_mode": {
    "name": "ipython",
    "version": 3
   },
   "file_extension": ".py",
   "mimetype": "text/x-python",
   "name": "python",
   "nbconvert_exporter": "python",
   "pygments_lexer": "ipython3",
   "version": "3.11.7"
  }
 },
 "nbformat": 4,
 "nbformat_minor": 5
}
